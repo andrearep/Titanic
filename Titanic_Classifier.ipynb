{
 "cells": [
  {
   "cell_type": "code",
   "execution_count": 1,
   "metadata": {},
   "outputs": [],
   "source": [
    "import pandas as pd\n",
    "import matplotlib.pyplot as plt\n",
    "import numpy as np"
   ]
  },
  {
   "cell_type": "code",
   "execution_count": 2,
   "metadata": {},
   "outputs": [
    {
     "data": {
      "text/html": [
       "<div>\n",
       "<style scoped>\n",
       "    .dataframe tbody tr th:only-of-type {\n",
       "        vertical-align: middle;\n",
       "    }\n",
       "\n",
       "    .dataframe tbody tr th {\n",
       "        vertical-align: top;\n",
       "    }\n",
       "\n",
       "    .dataframe thead th {\n",
       "        text-align: right;\n",
       "    }\n",
       "</style>\n",
       "<table border=\"1\" class=\"dataframe\">\n",
       "  <thead>\n",
       "    <tr style=\"text-align: right;\">\n",
       "      <th></th>\n",
       "      <th>Survived</th>\n",
       "      <th>Pclass</th>\n",
       "      <th>Name</th>\n",
       "      <th>Sex</th>\n",
       "      <th>Age</th>\n",
       "      <th>SibSp</th>\n",
       "      <th>Parch</th>\n",
       "      <th>Ticket</th>\n",
       "      <th>Fare</th>\n",
       "      <th>Cabin</th>\n",
       "      <th>Embarked</th>\n",
       "    </tr>\n",
       "    <tr>\n",
       "      <th>PassengerId</th>\n",
       "      <th></th>\n",
       "      <th></th>\n",
       "      <th></th>\n",
       "      <th></th>\n",
       "      <th></th>\n",
       "      <th></th>\n",
       "      <th></th>\n",
       "      <th></th>\n",
       "      <th></th>\n",
       "      <th></th>\n",
       "      <th></th>\n",
       "    </tr>\n",
       "  </thead>\n",
       "  <tbody>\n",
       "    <tr>\n",
       "      <th>1</th>\n",
       "      <td>0</td>\n",
       "      <td>3</td>\n",
       "      <td>Braund, Mr. Owen Harris</td>\n",
       "      <td>male</td>\n",
       "      <td>22.0</td>\n",
       "      <td>1</td>\n",
       "      <td>0</td>\n",
       "      <td>A/5 21171</td>\n",
       "      <td>7.2500</td>\n",
       "      <td>NaN</td>\n",
       "      <td>S</td>\n",
       "    </tr>\n",
       "    <tr>\n",
       "      <th>2</th>\n",
       "      <td>1</td>\n",
       "      <td>1</td>\n",
       "      <td>Cumings, Mrs. John Bradley (Florence Briggs Th...</td>\n",
       "      <td>female</td>\n",
       "      <td>38.0</td>\n",
       "      <td>1</td>\n",
       "      <td>0</td>\n",
       "      <td>PC 17599</td>\n",
       "      <td>71.2833</td>\n",
       "      <td>C85</td>\n",
       "      <td>C</td>\n",
       "    </tr>\n",
       "    <tr>\n",
       "      <th>3</th>\n",
       "      <td>1</td>\n",
       "      <td>3</td>\n",
       "      <td>Heikkinen, Miss. Laina</td>\n",
       "      <td>female</td>\n",
       "      <td>26.0</td>\n",
       "      <td>0</td>\n",
       "      <td>0</td>\n",
       "      <td>STON/O2. 3101282</td>\n",
       "      <td>7.9250</td>\n",
       "      <td>NaN</td>\n",
       "      <td>S</td>\n",
       "    </tr>\n",
       "    <tr>\n",
       "      <th>4</th>\n",
       "      <td>1</td>\n",
       "      <td>1</td>\n",
       "      <td>Futrelle, Mrs. Jacques Heath (Lily May Peel)</td>\n",
       "      <td>female</td>\n",
       "      <td>35.0</td>\n",
       "      <td>1</td>\n",
       "      <td>0</td>\n",
       "      <td>113803</td>\n",
       "      <td>53.1000</td>\n",
       "      <td>C123</td>\n",
       "      <td>S</td>\n",
       "    </tr>\n",
       "    <tr>\n",
       "      <th>5</th>\n",
       "      <td>0</td>\n",
       "      <td>3</td>\n",
       "      <td>Allen, Mr. William Henry</td>\n",
       "      <td>male</td>\n",
       "      <td>35.0</td>\n",
       "      <td>0</td>\n",
       "      <td>0</td>\n",
       "      <td>373450</td>\n",
       "      <td>8.0500</td>\n",
       "      <td>NaN</td>\n",
       "      <td>S</td>\n",
       "    </tr>\n",
       "    <tr>\n",
       "      <th>...</th>\n",
       "      <td>...</td>\n",
       "      <td>...</td>\n",
       "      <td>...</td>\n",
       "      <td>...</td>\n",
       "      <td>...</td>\n",
       "      <td>...</td>\n",
       "      <td>...</td>\n",
       "      <td>...</td>\n",
       "      <td>...</td>\n",
       "      <td>...</td>\n",
       "      <td>...</td>\n",
       "    </tr>\n",
       "    <tr>\n",
       "      <th>887</th>\n",
       "      <td>0</td>\n",
       "      <td>2</td>\n",
       "      <td>Montvila, Rev. Juozas</td>\n",
       "      <td>male</td>\n",
       "      <td>27.0</td>\n",
       "      <td>0</td>\n",
       "      <td>0</td>\n",
       "      <td>211536</td>\n",
       "      <td>13.0000</td>\n",
       "      <td>NaN</td>\n",
       "      <td>S</td>\n",
       "    </tr>\n",
       "    <tr>\n",
       "      <th>888</th>\n",
       "      <td>1</td>\n",
       "      <td>1</td>\n",
       "      <td>Graham, Miss. Margaret Edith</td>\n",
       "      <td>female</td>\n",
       "      <td>19.0</td>\n",
       "      <td>0</td>\n",
       "      <td>0</td>\n",
       "      <td>112053</td>\n",
       "      <td>30.0000</td>\n",
       "      <td>B42</td>\n",
       "      <td>S</td>\n",
       "    </tr>\n",
       "    <tr>\n",
       "      <th>889</th>\n",
       "      <td>0</td>\n",
       "      <td>3</td>\n",
       "      <td>Johnston, Miss. Catherine Helen \"Carrie\"</td>\n",
       "      <td>female</td>\n",
       "      <td>NaN</td>\n",
       "      <td>1</td>\n",
       "      <td>2</td>\n",
       "      <td>W./C. 6607</td>\n",
       "      <td>23.4500</td>\n",
       "      <td>NaN</td>\n",
       "      <td>S</td>\n",
       "    </tr>\n",
       "    <tr>\n",
       "      <th>890</th>\n",
       "      <td>1</td>\n",
       "      <td>1</td>\n",
       "      <td>Behr, Mr. Karl Howell</td>\n",
       "      <td>male</td>\n",
       "      <td>26.0</td>\n",
       "      <td>0</td>\n",
       "      <td>0</td>\n",
       "      <td>111369</td>\n",
       "      <td>30.0000</td>\n",
       "      <td>C148</td>\n",
       "      <td>C</td>\n",
       "    </tr>\n",
       "    <tr>\n",
       "      <th>891</th>\n",
       "      <td>0</td>\n",
       "      <td>3</td>\n",
       "      <td>Dooley, Mr. Patrick</td>\n",
       "      <td>male</td>\n",
       "      <td>32.0</td>\n",
       "      <td>0</td>\n",
       "      <td>0</td>\n",
       "      <td>370376</td>\n",
       "      <td>7.7500</td>\n",
       "      <td>NaN</td>\n",
       "      <td>Q</td>\n",
       "    </tr>\n",
       "  </tbody>\n",
       "</table>\n",
       "<p>891 rows × 11 columns</p>\n",
       "</div>"
      ],
      "text/plain": [
       "             Survived  Pclass  \\\n",
       "PassengerId                     \n",
       "1                   0       3   \n",
       "2                   1       1   \n",
       "3                   1       3   \n",
       "4                   1       1   \n",
       "5                   0       3   \n",
       "...               ...     ...   \n",
       "887                 0       2   \n",
       "888                 1       1   \n",
       "889                 0       3   \n",
       "890                 1       1   \n",
       "891                 0       3   \n",
       "\n",
       "                                                          Name     Sex   Age  \\\n",
       "PassengerId                                                                    \n",
       "1                                      Braund, Mr. Owen Harris    male  22.0   \n",
       "2            Cumings, Mrs. John Bradley (Florence Briggs Th...  female  38.0   \n",
       "3                                       Heikkinen, Miss. Laina  female  26.0   \n",
       "4                 Futrelle, Mrs. Jacques Heath (Lily May Peel)  female  35.0   \n",
       "5                                     Allen, Mr. William Henry    male  35.0   \n",
       "...                                                        ...     ...   ...   \n",
       "887                                      Montvila, Rev. Juozas    male  27.0   \n",
       "888                               Graham, Miss. Margaret Edith  female  19.0   \n",
       "889                   Johnston, Miss. Catherine Helen \"Carrie\"  female   NaN   \n",
       "890                                      Behr, Mr. Karl Howell    male  26.0   \n",
       "891                                        Dooley, Mr. Patrick    male  32.0   \n",
       "\n",
       "             SibSp  Parch            Ticket     Fare Cabin Embarked  \n",
       "PassengerId                                                          \n",
       "1                1      0         A/5 21171   7.2500   NaN        S  \n",
       "2                1      0          PC 17599  71.2833   C85        C  \n",
       "3                0      0  STON/O2. 3101282   7.9250   NaN        S  \n",
       "4                1      0            113803  53.1000  C123        S  \n",
       "5                0      0            373450   8.0500   NaN        S  \n",
       "...            ...    ...               ...      ...   ...      ...  \n",
       "887              0      0            211536  13.0000   NaN        S  \n",
       "888              0      0            112053  30.0000   B42        S  \n",
       "889              1      2        W./C. 6607  23.4500   NaN        S  \n",
       "890              0      0            111369  30.0000  C148        C  \n",
       "891              0      0            370376   7.7500   NaN        Q  \n",
       "\n",
       "[891 rows x 11 columns]"
      ]
     },
     "execution_count": 2,
     "metadata": {},
     "output_type": "execute_result"
    }
   ],
   "source": [
    "df = pd.read_csv(open(\"C:/Users/andre/Desktop/Titanic/train.csv\",'rb'))\n",
    "test_X = pd.read_csv(open(\"C:/Users/andre/Desktop/Titanic/test.csv\",'rb'))\n",
    "test_Y = pd.read_csv(open(\"C:/Users/andre/Desktop/Titanic/gender_submission.csv\",'rb'))\n",
    "\n",
    "df.head(100)\n",
    "\n",
    "df.set_index(\"PassengerId\")\n",
    "\n"
   ]
  },
  {
   "cell_type": "code",
   "execution_count": 3,
   "metadata": {},
   "outputs": [
    {
     "data": {
      "text/plain": [
       "PassengerId      0\n",
       "Survived         0\n",
       "Pclass           0\n",
       "Name             0\n",
       "Sex              0\n",
       "Age            177\n",
       "SibSp            0\n",
       "Parch            0\n",
       "Ticket           0\n",
       "Fare             0\n",
       "Cabin          687\n",
       "Embarked         2\n",
       "dtype: int64"
      ]
     },
     "execution_count": 3,
     "metadata": {},
     "output_type": "execute_result"
    }
   ],
   "source": [
    "#controllo dei valori nulli\n",
    "df.isnull().sum()"
   ]
  },
  {
   "cell_type": "code",
   "execution_count": null,
   "metadata": {},
   "outputs": [],
   "source": []
  },
  {
   "cell_type": "code",
   "execution_count": 4,
   "metadata": {},
   "outputs": [
    {
     "name": "stdout",
     "output_type": "stream",
     "text": [
      "891\n"
     ]
    }
   ],
   "source": [
    "#creazione di una \n",
    "max= df[\"PassengerId\"].max()\n",
    "print(max)\n"
   ]
  },
  {
   "cell_type": "markdown",
   "metadata": {},
   "source": [
    "count0=0\n",
    "count1=0\n",
    "\n",
    "for i in range(max):\n",
    "    if df[\"survived\"][i] == 0:\n",
    "        count0 += 1\n",
    "    elif df[\"Survived\"][i] == 1:\n",
    "        count1 +=1\n",
    "print(count0)\n",
    "print(count1)"
   ]
  },
  {
   "cell_type": "code",
   "execution_count": 5,
   "metadata": {},
   "outputs": [
    {
     "data": {
      "image/png": "[encoded data removed]",
      "text/plain": [
       "<Figure size 432x288 with 1 Axes>"
      ]
     },
     "metadata": {},
     "output_type": "display_data"
    }
   ],
   "source": [
    "#Analizziamo quanti sono i sopravvissuti in percentuale\n",
    "meaning=(\"death\",\"survived\" )\n",
    "cols = ['r','b']\n",
    "\n",
    "plt.pie(df.groupby(\"Survived\").Survived.count(),\n",
    "        labels=meaning,\n",
    "        colors=cols,\n",
    "        startangle=90,\n",
    "        shadow= True,\n",
    "        explode=(0,0.1),\n",
    "        autopct='%1.1f%%')\n",
    "\n",
    "plt.title('survival rate')\n",
    "plt.show()"
   ]
  },
  {
   "cell_type": "code",
   "execution_count": 6,
   "metadata": {},
   "outputs": [],
   "source": [
    "#Notiamo che il tasso di sopravvivenza è quasi uno su tre, abbastanza prevedibile per un disastro di tale portata\n",
    "#il dataframe è perfettamente in linea con il tasso di sopravvivenza genereale in cui si contano 700 sopravvissuti su 2223"
   ]
  },
  {
   "cell_type": "code",
   "execution_count": null,
   "metadata": {},
   "outputs": [],
   "source": [
    "\n"
   ]
  },
  {
   "cell_type": "code",
   "execution_count": 7,
   "metadata": {},
   "outputs": [
    {
     "data": {
      "text/plain": [
       "<matplotlib.legend.Legend at 0xdcd9340>"
      ]
     },
     "execution_count": 7,
     "metadata": {},
     "output_type": "execute_result"
    },
    {
     "data": {
      "image/png": "[encoded data removed]",
      "text/plain": [
       "<Figure size 432x288 with 1 Axes>"
      ]
     },
     "metadata": {
      "needs_background": "light"
     },
     "output_type": "display_data"
    }
   ],
   "source": [
    "#analizziamo se c'è una correlazione tra il sesso di appartenenza e le probabilità di sopravvivenza\n",
    "labels = [\"female\",\"male\"]\n",
    "rate_death_mf = 1-(df.groupby(\"Sex\").Survived.mean())\n",
    "rate_surv_mf = (df.groupby(\"Sex\").Survived.mean())\n",
    "\n",
    "x = np.arange(len(labels))  # the label locations\n",
    "width = 0.40 # the width of the bars\n",
    "\n",
    "fig, ax = plt.subplots()\n",
    "\n",
    "rects1 = ax.bar(x-width/2,rate_surv_mf , width, label='Survivor rate',color='b')\n",
    "rects2 = ax.bar(x+width/2,rate_death_mf , width, label='Death rate',color='r')\n",
    "\n",
    "\n",
    "\n",
    "ax.set_ylabel('Survival rate')\n",
    "ax.set_xlabel(\"Sex\")\n",
    "ax.set_title('Sex survival rate')\n",
    "ax.set_xticks(x)\n",
    "ax.set_xticklabels(labels)\n",
    "ax.legend()"
   ]
  },
  {
   "cell_type": "code",
   "execution_count": 8,
   "metadata": {},
   "outputs": [],
   "source": [
    "#Le donne sono sopravvisute maggiormente\n",
    "#Sembrerebbe che il detto prima le donne e i bambini sia parzialmente vero\n",
    "#verifichiamo se anche per i bambini è così..."
   ]
  },
  {
   "cell_type": "code",
   "execution_count": 9,
   "metadata": {},
   "outputs": [],
   "source": [
    "#creiamo due dataframe divisi per sesso\n",
    "male_df= df[[\"Age\",\"Sex\",\"Survived\", \"PassengerId\"]]\n",
    "female_df= df[[\"Age\",\"Sex\",\"Survived\", \"PassengerId\"]]\n",
    "\n",
    "\n",
    "for i in range(max):\n",
    "    if (male_df[\"Sex\"][i]==\"male\"):\n",
    "        female_df = female_df.drop(i)\n",
    "    elif (female_df[\"Sex\"][i]==\"female\"):\n",
    "        male_df= male_df.drop(i)\n",
    "#eliminiamo i valori nulli per fare un analisi      \n",
    "male_df=male_df.dropna()\n",
    "female_df=female_df.dropna()"
   ]
  },
  {
   "cell_type": "code",
   "execution_count": 10,
   "metadata": {},
   "outputs": [
    {
     "name": "stdout",
     "output_type": "stream",
     "text": [
      "      Age   Sex  Survived  PassengerId AgeGroup\n",
      "0    22.0  male         0            1    20-30\n",
      "4    35.0  male         0            5    30-40\n",
      "6    54.0  male         0            7    50-60\n",
      "7     2.0  male         0            8     0-10\n",
      "12   20.0  male         0           13    20-30\n",
      "..    ...   ...       ...          ...      ...\n",
      "883  28.0  male         0          884    20-30\n",
      "884  25.0  male         0          885    20-30\n",
      "886  27.0  male         0          887    20-30\n",
      "889  26.0  male         1          890    20-30\n",
      "890  32.0  male         0          891    30-40\n",
      "\n",
      "[453 rows x 5 columns]\n",
      "      Age     Sex  Survived  PassengerId AgeGroup\n",
      "1    38.0  female         1            2    30-40\n",
      "2    26.0  female         1            3    20-30\n",
      "3    35.0  female         1            4    30-40\n",
      "8    27.0  female         1            9    20-30\n",
      "9    14.0  female         1           10    10-20\n",
      "..    ...     ...       ...          ...      ...\n",
      "879  56.0  female         1          880    50-60\n",
      "880  25.0  female         1          881    20-30\n",
      "882  22.0  female         0          883    20-30\n",
      "885  39.0  female         0          886    30-40\n",
      "887  19.0  female         1          888    10-20\n",
      "\n",
      "[261 rows x 5 columns]\n"
     ]
    }
   ],
   "source": [
    "#creiamo una nuova variabile Age group per raggruppare le persone per fascia di età decennale\n",
    "bins= [0,10,20,30,40,50,60,70,80]\n",
    "labels = ['0-10','10-20','20-30','30-40','40-50', \"50-60\",\"60-70\",\"70-80\"]\n",
    "male_df['AgeGroup'] = pd.cut(male_df['Age'], bins=bins, labels=labels, right=False)\n",
    "print (male_df)\n",
    "\n",
    "bins= [0,10,20,30,40,50,60,70,80]\n",
    "labels = ['0-10','10-20','20-30','30-40','40-50', \"50-60\",\"60-70\",\"70-80\"]\n",
    "female_df['AgeGroup'] = pd.cut(female_df['Age'], bins=bins, labels=labels, right=False)\n",
    "print (female_df)\n"
   ]
  },
  {
   "cell_type": "code",
   "execution_count": null,
   "metadata": {},
   "outputs": [],
   "source": []
  },
  {
   "cell_type": "code",
   "execution_count": 11,
   "metadata": {},
   "outputs": [
    {
     "data": {
      "text/plain": [
       "<matplotlib.legend.Legend at 0xdd42538>"
      ]
     },
     "execution_count": 11,
     "metadata": {},
     "output_type": "execute_result"
    },
    {
     "data": {
      "image/png": "[encoded data removed]",
      "text/plain": [
       "<Figure size 432x288 with 1 Axes>"
      ]
     },
     "metadata": {
      "needs_background": "light"
     },
     "output_type": "display_data"
    }
   ],
   "source": [
    "#creiamo un grafico per vede in valore assoluto quanti uomini e donne sono presenti per fasce d'età\n",
    "labels = [\"0-10\",\"10-20\",\"20-30\",\"30-40\",\"40-50\", \"50-60\",\"60-70\",\"70-80\"]\n",
    "\n",
    "men_means = male_df.groupby(\"AgeGroup\").Survived.count()\n",
    "women_means = female_df.groupby(\"AgeGroup\").Survived.count()\n",
    "\n",
    "x = np.arange(len(labels))  \n",
    "width = 0.350 \n",
    "\n",
    "fig, ax = plt.subplots()\n",
    "rects1 = ax.barh(x - 0.5/2, men_means, width, label='Men')\n",
    "rects2 = ax.barh(x + 0.5/2, women_means, width, label='Women',color='hotpink')\n",
    "\n",
    "\n",
    "ax.set_yticks(x)\n",
    "ax.set_yticklabels(labels)\n",
    "ax.set_ylabel('Survival rate')\n",
    "ax.set_xlabel('Age Group')\n",
    "ax.set_title(' N° Men/Women for Age Group')\n",
    "ax.legend()"
   ]
  },
  {
   "cell_type": "code",
   "execution_count": 12,
   "metadata": {},
   "outputs": [
    {
     "data": {
      "text/plain": [
       "<matplotlib.legend.Legend at 0xddc3508>"
      ]
     },
     "execution_count": 12,
     "metadata": {},
     "output_type": "execute_result"
    },
    {
     "data": {
      "image/png": "[encoded data removed]",
      "text/plain": [
       "<Figure size 432x288 with 1 Axes>"
      ]
     },
     "metadata": {
      "needs_background": "light"
     },
     "output_type": "display_data"
    }
   ],
   "source": [
    "#e ora vediamo il tasso di sopravvivenza per fasce d'età\n",
    "labels = [\"0-10\",\"10-20\",\"20-30\",\"30-40\",\"40-50\", \"50-60\",\"60-70\",\"70-80\"]\n",
    "men_means = male_df.groupby(\"AgeGroup\").Survived.mean()\n",
    "women_means = female_df.groupby(\"AgeGroup\").Survived.mean()\n",
    "\n",
    "x = np.arange(len(labels))  \n",
    "width = 0.40 \n",
    "\n",
    "fig, ax = plt.subplots()\n",
    "rects1 = ax.bar(x - width/2, men_means, width, label='Men')\n",
    "rects2 = ax.bar(x + width/2, women_means, width, label='Women',color='hotpink')\n",
    "\n",
    "\n",
    "ax.set_ylabel('Survival rate')\n",
    "ax.set_xlabel('Age Group')\n",
    "ax.set_title('Men/Women survival rate')\n",
    "ax.set_xticks(x)\n",
    "ax.set_xticklabels(labels)\n",
    "ax.legend()\n"
   ]
  },
  {
   "cell_type": "code",
   "execution_count": 13,
   "metadata": {},
   "outputs": [],
   "source": [
    "#si può facilemente notare che i bambini veniva salvati indipendentemente se fossero uomini o donne\n",
    "#sopra i dieci anni però si può notare come la forbice di soppravvivenza tra uomini e donne si allarghi in fvore di quest'ultime"
   ]
  },
  {
   "cell_type": "code",
   "execution_count": 14,
   "metadata": {},
   "outputs": [],
   "source": [
    "#analiziamo ora se c'è correlazione tra il numero di familiari presenti a bordo e la probabilità di sopravvivenza\n",
    "#creiamo due dataframe\n",
    "parents_df=df.loc[:,[\"Parch\", \"Survived\",\"Age\"]]\n",
    "broth_df=df.loc[:,[\"SibSp\", \"Survived\",\"Age\"]]"
   ]
  },
  {
   "cell_type": "code",
   "execution_count": 15,
   "metadata": {},
   "outputs": [
    {
     "data": {
      "text/plain": [
       "<matplotlib.legend.Legend at 0xde0c568>"
      ]
     },
     "execution_count": 15,
     "metadata": {},
     "output_type": "execute_result"
    },
    {
     "data": {
      "image/png": "[encoded data removed]",
      "text/plain": [
       "<Figure size 432x288 with 1 Axes>"
      ]
     },
     "metadata": {
      "needs_background": "light"
     },
     "output_type": "display_data"
    }
   ],
   "source": [
    "#analizziamo la correlazione tra la presenza di figli/genitori e la probabilità di sopravvivere\n",
    "labels = sorted(parents_df.Parch.unique())\n",
    "\n",
    "\n",
    "parents_mean = parents_df.groupby(\"Parch\").Survived.mean()\n",
    "parents_count = (parents_df.groupby(\"Parch\").Survived.count())/max\n",
    "\n",
    "x = np.arange(len(labels))  \n",
    "width = 0.40 \n",
    "\n",
    "fig, ax = plt.subplots()\n",
    "\n",
    "rects1 = ax.bar(x-width/2, parents_mean, width, label='Parents/Children survival rate')\n",
    "rects2 = ax.bar(x+width/2, parents_count, width, label='N° Parents/Children')\n",
    "\n",
    "\n",
    "\n",
    "ax.set_ylabel('Survivor rate')\n",
    "ax.set_xlabel(\"N° members\")\n",
    "ax.set_title('family size survival rate')\n",
    "ax.set_xticks(x)\n",
    "ax.set_xticklabels(labels)\n",
    "ax.legend()\n"
   ]
  },
  {
   "cell_type": "code",
   "execution_count": 16,
   "metadata": {},
   "outputs": [
    {
     "data": {
      "text/plain": [
       "<matplotlib.legend.Legend at 0xdcf6e80>"
      ]
     },
     "execution_count": 16,
     "metadata": {},
     "output_type": "execute_result"
    },
    {
     "data": {
      "image/png": "[encoded data removed]",
      "text/plain": [
       "<Figure size 432x288 with 1 Axes>"
      ]
     },
     "metadata": {
      "needs_background": "light"
     },
     "output_type": "display_data"
    }
   ],
   "source": [
    "#e facciamo la stessa cosa per fratelli/coniugi\n",
    "labels = sorted(broth_df.SibSp.unique())\n",
    "\n",
    "\n",
    "broth_mean = broth_df.groupby(\"SibSp\").Survived.mean()\n",
    "broth_count = (broth_df.groupby(\"SibSp\").Survived.count())/max\n",
    "\n",
    "x = np.arange(len(labels))  \n",
    "width = 0.40 \n",
    "fig, ax = plt.subplots()\n",
    "\n",
    "rects1 = ax.bar(x-width/2, broth_mean, width, label='Siblings/spouses survival rate')\n",
    "rects2 = ax.bar(x+width/2, broth_count, width, label='N° Parents/Children')\n",
    "\n",
    "\n",
    "\n",
    "ax.set_ylabel('Survival rate')\n",
    "ax.set_xlabel(\"N° members\")\n",
    "ax.set_title('family size survival rate')\n",
    "ax.set_xticks(x)\n",
    "ax.set_xticklabels(labels)\n",
    "ax.legend()\n"
   ]
  },
  {
   "cell_type": "code",
   "execution_count": 17,
   "metadata": {},
   "outputs": [],
   "source": [
    "#da quest grafici si possono notare due cose:\n",
    "#la stragrande maggioranza dei passeggeri non aveva parenti a bordo\n",
    "#il tasso di sopravvivenza aumenta per piccoli nuclei (1-2 parenti), per poi diminuire"
   ]
  },
  {
   "cell_type": "code",
   "execution_count": 18,
   "metadata": {},
   "outputs": [],
   "source": [
    "#analizziamo ora la correlazione tra il tasso di sopravvivenza e la classe a bordo e la tariffa pagata"
   ]
  },
  {
   "cell_type": "code",
   "execution_count": 19,
   "metadata": {},
   "outputs": [
    {
     "data": {
      "text/html": [
       "<div>\n",
       "<style scoped>\n",
       "    .dataframe tbody tr th:only-of-type {\n",
       "        vertical-align: middle;\n",
       "    }\n",
       "\n",
       "    .dataframe tbody tr th {\n",
       "        vertical-align: top;\n",
       "    }\n",
       "\n",
       "    .dataframe thead th {\n",
       "        text-align: right;\n",
       "    }\n",
       "</style>\n",
       "<table border=\"1\" class=\"dataframe\">\n",
       "  <thead>\n",
       "    <tr style=\"text-align: right;\">\n",
       "      <th></th>\n",
       "      <th>Survived</th>\n",
       "      <th>Pclass</th>\n",
       "    </tr>\n",
       "  </thead>\n",
       "  <tbody>\n",
       "    <tr>\n",
       "      <th>0</th>\n",
       "      <td>0</td>\n",
       "      <td>3</td>\n",
       "    </tr>\n",
       "    <tr>\n",
       "      <th>1</th>\n",
       "      <td>1</td>\n",
       "      <td>1</td>\n",
       "    </tr>\n",
       "    <tr>\n",
       "      <th>2</th>\n",
       "      <td>1</td>\n",
       "      <td>3</td>\n",
       "    </tr>\n",
       "    <tr>\n",
       "      <th>3</th>\n",
       "      <td>1</td>\n",
       "      <td>1</td>\n",
       "    </tr>\n",
       "    <tr>\n",
       "      <th>4</th>\n",
       "      <td>0</td>\n",
       "      <td>3</td>\n",
       "    </tr>\n",
       "  </tbody>\n",
       "</table>\n",
       "</div>"
      ],
      "text/plain": [
       "   Survived  Pclass\n",
       "0         0       3\n",
       "1         1       1\n",
       "2         1       3\n",
       "3         1       1\n",
       "4         0       3"
      ]
     },
     "execution_count": 19,
     "metadata": {},
     "output_type": "execute_result"
    }
   ],
   "source": [
    "#creiamo un dataframe per la classe\n",
    "\n",
    "class_df= df[[\"Survived\", \"Pclass\"]]\n",
    "class_df.head()\n"
   ]
  },
  {
   "cell_type": "code",
   "execution_count": 20,
   "metadata": {},
   "outputs": [
    {
     "data": {
      "text/plain": [
       "<matplotlib.legend.Legend at 0xddff580>"
      ]
     },
     "execution_count": 20,
     "metadata": {},
     "output_type": "execute_result"
    },
    {
     "data": {
      "image/png": "[encoded data removed]",
      "text/plain": [
       "<Figure size 432x288 with 1 Axes>"
      ]
     },
     "metadata": {
      "needs_background": "light"
     },
     "output_type": "display_data"
    }
   ],
   "source": [
    "height=[1,2,3]\n",
    "plt.bar(height,class_df.groupby('Pclass').Survived.mean(),0.3,label='survival rate')\n",
    "\n",
    "plt.ylabel('Survival rate')\n",
    "plt.xlabel(\"P class\")\n",
    "plt.title('P class survival rate')\n",
    "\n",
    "plt.legend()\n"
   ]
  },
  {
   "cell_type": "code",
   "execution_count": 21,
   "metadata": {},
   "outputs": [],
   "source": [
    "#analizziamo ora  la distrubizione delle tariffe pagate\n",
    "#creiamo un dataframe\n",
    "fare_df=df.loc[:,[\"Survived\", \"Fare\"]]"
   ]
  },
  {
   "cell_type": "code",
   "execution_count": 22,
   "metadata": {},
   "outputs": [
    {
     "data": {
      "text/html": [
       "<div>\n",
       "<style scoped>\n",
       "    .dataframe tbody tr th:only-of-type {\n",
       "        vertical-align: middle;\n",
       "    }\n",
       "\n",
       "    .dataframe tbody tr th {\n",
       "        vertical-align: top;\n",
       "    }\n",
       "\n",
       "    .dataframe thead th {\n",
       "        text-align: right;\n",
       "    }\n",
       "</style>\n",
       "<table border=\"1\" class=\"dataframe\">\n",
       "  <thead>\n",
       "    <tr style=\"text-align: right;\">\n",
       "      <th></th>\n",
       "      <th>Survived</th>\n",
       "      <th>Fare</th>\n",
       "    </tr>\n",
       "  </thead>\n",
       "  <tbody>\n",
       "    <tr>\n",
       "      <th>count</th>\n",
       "      <td>891.000000</td>\n",
       "      <td>891.000000</td>\n",
       "    </tr>\n",
       "    <tr>\n",
       "      <th>mean</th>\n",
       "      <td>0.383838</td>\n",
       "      <td>32.204208</td>\n",
       "    </tr>\n",
       "    <tr>\n",
       "      <th>std</th>\n",
       "      <td>0.486592</td>\n",
       "      <td>49.693429</td>\n",
       "    </tr>\n",
       "    <tr>\n",
       "      <th>min</th>\n",
       "      <td>0.000000</td>\n",
       "      <td>0.000000</td>\n",
       "    </tr>\n",
       "    <tr>\n",
       "      <th>25%</th>\n",
       "      <td>0.000000</td>\n",
       "      <td>7.910400</td>\n",
       "    </tr>\n",
       "    <tr>\n",
       "      <th>50%</th>\n",
       "      <td>0.000000</td>\n",
       "      <td>14.454200</td>\n",
       "    </tr>\n",
       "    <tr>\n",
       "      <th>75%</th>\n",
       "      <td>1.000000</td>\n",
       "      <td>31.000000</td>\n",
       "    </tr>\n",
       "    <tr>\n",
       "      <th>max</th>\n",
       "      <td>1.000000</td>\n",
       "      <td>512.329200</td>\n",
       "    </tr>\n",
       "  </tbody>\n",
       "</table>\n",
       "</div>"
      ],
      "text/plain": [
       "         Survived        Fare\n",
       "count  891.000000  891.000000\n",
       "mean     0.383838   32.204208\n",
       "std      0.486592   49.693429\n",
       "min      0.000000    0.000000\n",
       "25%      0.000000    7.910400\n",
       "50%      0.000000   14.454200\n",
       "75%      1.000000   31.000000\n",
       "max      1.000000  512.329200"
      ]
     },
     "execution_count": 22,
     "metadata": {},
     "output_type": "execute_result"
    }
   ],
   "source": [
    "fare_df.describe()\n"
   ]
  },
  {
   "cell_type": "code",
   "execution_count": 23,
   "metadata": {},
   "outputs": [
    {
     "data": {
      "text/plain": [
       "Text(0.5, 1.0, 'distribution fare')"
      ]
     },
     "execution_count": 23,
     "metadata": {},
     "output_type": "execute_result"
    },
    {
     "data": {
      "image/png": "[encoded data removed]",
      "text/plain": [
       "<Figure size 432x288 with 1 Axes>"
      ]
     },
     "metadata": {
      "needs_background": "light"
     },
     "output_type": "display_data"
    }
   ],
   "source": [
    "plt.bar(sorted(fare_df.Fare.unique()),fare_df.groupby('Fare').Survived.count())\n",
    "\n",
    "plt.ylabel('N° people for Fare')\n",
    "plt.xlabel(\"Fare\")\n",
    "plt.title('distribution fare')\n",
    "\n"
   ]
  },
  {
   "cell_type": "code",
   "execution_count": 24,
   "metadata": {},
   "outputs": [],
   "source": [
    "#come abbiamo potuto osservare le persone in prima classe, quindi probabilmente quelle con tariffa maggiore hanno più probabilità di sopravvivenza\n",
    "#e la distribuzione delle tarffe si concentra principalmente tra 0 e 100\n"
   ]
  },
  {
   "cell_type": "code",
   "execution_count": 25,
   "metadata": {},
   "outputs": [
    {
     "data": {
      "text/html": [
       "<div>\n",
       "<style scoped>\n",
       "    .dataframe tbody tr th:only-of-type {\n",
       "        vertical-align: middle;\n",
       "    }\n",
       "\n",
       "    .dataframe tbody tr th {\n",
       "        vertical-align: top;\n",
       "    }\n",
       "\n",
       "    .dataframe thead th {\n",
       "        text-align: right;\n",
       "    }\n",
       "</style>\n",
       "<table border=\"1\" class=\"dataframe\">\n",
       "  <thead>\n",
       "    <tr style=\"text-align: right;\">\n",
       "      <th></th>\n",
       "      <th>Survived</th>\n",
       "      <th>Embarked</th>\n",
       "      <th>Fare</th>\n",
       "    </tr>\n",
       "  </thead>\n",
       "  <tbody>\n",
       "    <tr>\n",
       "      <th>0</th>\n",
       "      <td>0</td>\n",
       "      <td>S</td>\n",
       "      <td>7.2500</td>\n",
       "    </tr>\n",
       "    <tr>\n",
       "      <th>1</th>\n",
       "      <td>1</td>\n",
       "      <td>C</td>\n",
       "      <td>71.2833</td>\n",
       "    </tr>\n",
       "    <tr>\n",
       "      <th>2</th>\n",
       "      <td>1</td>\n",
       "      <td>S</td>\n",
       "      <td>7.9250</td>\n",
       "    </tr>\n",
       "    <tr>\n",
       "      <th>3</th>\n",
       "      <td>1</td>\n",
       "      <td>S</td>\n",
       "      <td>53.1000</td>\n",
       "    </tr>\n",
       "    <tr>\n",
       "      <th>4</th>\n",
       "      <td>0</td>\n",
       "      <td>S</td>\n",
       "      <td>8.0500</td>\n",
       "    </tr>\n",
       "  </tbody>\n",
       "</table>\n",
       "</div>"
      ],
      "text/plain": [
       "   Survived Embarked     Fare\n",
       "0         0        S   7.2500\n",
       "1         1        C  71.2833\n",
       "2         1        S   7.9250\n",
       "3         1        S  53.1000\n",
       "4         0        S   8.0500"
      ]
     },
     "execution_count": 25,
     "metadata": {},
     "output_type": "execute_result"
    }
   ],
   "source": [
    "#vediamo ora se ci può essere una correlazione dal luogo di imbarco e la distribuzione\n",
    "embark_df=df.loc[:,[\"Survived\", \"Embarked\",\"Fare\"]]\n",
    "embark_df.head()"
   ]
  },
  {
   "cell_type": "code",
   "execution_count": 26,
   "metadata": {},
   "outputs": [
    {
     "data": {
      "text/plain": [
       "Text(0.5, 0, 'embarked from')"
      ]
     },
     "execution_count": 26,
     "metadata": {},
     "output_type": "execute_result"
    },
    {
     "data": {
      "image/png": "[encoded data removed]",
      "text/plain": [
       "<Figure size 432x288 with 1 Axes>"
      ]
     },
     "metadata": {
      "needs_background": "light"
     },
     "output_type": "display_data"
    }
   ],
   "source": [
    "plt.plot(embark_df.groupby(\"Embarked\")[\"Survived\"].count())\n",
    "\n",
    "plt.ylabel('N° people')\n",
    "plt.xlabel(\"embarked from\")\n",
    "\n"
   ]
  },
  {
   "cell_type": "code",
   "execution_count": 27,
   "metadata": {},
   "outputs": [],
   "source": [
    "#notiamo che la maggior parte delle persone si sono imbarcate da souththempton\n",
    "#per questo motivo inseriremo nei due valori mancanti di Embarked, il valore S\n"
   ]
  },
  {
   "cell_type": "code",
   "execution_count": 28,
   "metadata": {},
   "outputs": [
    {
     "data": {
      "text/plain": [
       "<matplotlib.legend.Legend at 0xdd9efa0>"
      ]
     },
     "execution_count": 28,
     "metadata": {},
     "output_type": "execute_result"
    },
    {
     "data": {
      "image/png": "[encoded data removed]",
      "text/plain": [
       "<Figure size 432x288 with 1 Axes>"
      ]
     },
     "metadata": {
      "needs_background": "light"
     },
     "output_type": "display_data"
    }
   ],
   "source": [
    "height=['C','Q','S']\n",
    "plt.bar(height,embark_df.groupby('Embarked').Survived.mean(),0.3,label='survival rate')\n",
    "\n",
    "plt.ylabel('Survival rate')\n",
    "plt.xlabel(\"P class\")\n",
    "plt.title('P class survival rate')\n",
    "\n",
    "plt.legend()"
   ]
  },
  {
   "cell_type": "code",
   "execution_count": null,
   "metadata": {},
   "outputs": [],
   "source": []
  },
  {
   "cell_type": "code",
   "execution_count": 29,
   "metadata": {},
   "outputs": [
    {
     "data": {
      "text/html": [
       "<style  type=\"text/css\" >\n",
       "    #T_cfc1305e_b79c_11ea_b924_982cbc8f6b18row0_col0 {\n",
       "            background-color:  #ffff66;\n",
       "            color:  #000000;\n",
       "        }    #T_cfc1305e_b79c_11ea_b924_982cbc8f6b18row0_col1 {\n",
       "            background-color:  #008066;\n",
       "            color:  #f1f1f1;\n",
       "        }    #T_cfc1305e_b79c_11ea_b924_982cbc8f6b18row0_col2 {\n",
       "            background-color:  #ffff66;\n",
       "            color:  #000000;\n",
       "        }    #T_cfc1305e_b79c_11ea_b924_982cbc8f6b18row0_col3 {\n",
       "            background-color:  #ffff66;\n",
       "            color:  #000000;\n",
       "        }    #T_cfc1305e_b79c_11ea_b924_982cbc8f6b18row0_col4 {\n",
       "            background-color:  #008066;\n",
       "            color:  #f1f1f1;\n",
       "        }    #T_cfc1305e_b79c_11ea_b924_982cbc8f6b18row0_col5 {\n",
       "            background-color:  #ffff66;\n",
       "            color:  #000000;\n",
       "        }    #T_cfc1305e_b79c_11ea_b924_982cbc8f6b18row0_col6 {\n",
       "            background-color:  #008066;\n",
       "            color:  #f1f1f1;\n",
       "        }    #T_cfc1305e_b79c_11ea_b924_982cbc8f6b18row0_col7 {\n",
       "            background-color:  #008066;\n",
       "            color:  #f1f1f1;\n",
       "        }    #T_cfc1305e_b79c_11ea_b924_982cbc8f6b18row0_col8 {\n",
       "            background-color:  #ffff66;\n",
       "            color:  #000000;\n",
       "        }    #T_cfc1305e_b79c_11ea_b924_982cbc8f6b18row1_col0 {\n",
       "            background-color:  #008066;\n",
       "            color:  #f1f1f1;\n",
       "        }    #T_cfc1305e_b79c_11ea_b924_982cbc8f6b18row1_col1 {\n",
       "            background-color:  #ffff66;\n",
       "            color:  #000000;\n",
       "        }    #T_cfc1305e_b79c_11ea_b924_982cbc8f6b18row1_col2 {\n",
       "            background-color:  #008066;\n",
       "            color:  #f1f1f1;\n",
       "        }    #T_cfc1305e_b79c_11ea_b924_982cbc8f6b18row1_col3 {\n",
       "            background-color:  #008066;\n",
       "            color:  #f1f1f1;\n",
       "        }    #T_cfc1305e_b79c_11ea_b924_982cbc8f6b18row1_col4 {\n",
       "            background-color:  #ffff66;\n",
       "            color:  #000000;\n",
       "        }    #T_cfc1305e_b79c_11ea_b924_982cbc8f6b18row1_col5 {\n",
       "            background-color:  #008066;\n",
       "            color:  #f1f1f1;\n",
       "        }    #T_cfc1305e_b79c_11ea_b924_982cbc8f6b18row1_col6 {\n",
       "            background-color:  #ffff66;\n",
       "            color:  #000000;\n",
       "        }    #T_cfc1305e_b79c_11ea_b924_982cbc8f6b18row1_col7 {\n",
       "            background-color:  #ffff66;\n",
       "            color:  #000000;\n",
       "        }    #T_cfc1305e_b79c_11ea_b924_982cbc8f6b18row1_col8 {\n",
       "            background-color:  #008066;\n",
       "            color:  #f1f1f1;\n",
       "        }</style><table id=\"T_cfc1305e_b79c_11ea_b924_982cbc8f6b18\" ><thead>    <tr>        <th class=\"index_name level0\" >Initial</th>        <th class=\"col_heading level0 col0\" >Col</th>        <th class=\"col_heading level0 col1\" >Dona</th>        <th class=\"col_heading level0 col2\" >Dr</th>        <th class=\"col_heading level0 col3\" >Master</th>        <th class=\"col_heading level0 col4\" >Miss</th>        <th class=\"col_heading level0 col5\" >Mr</th>        <th class=\"col_heading level0 col6\" >Mrs</th>        <th class=\"col_heading level0 col7\" >Ms</th>        <th class=\"col_heading level0 col8\" >Rev</th>    </tr>    <tr>        <th class=\"index_name level0\" >Sex</th>        <th class=\"blank\" ></th>        <th class=\"blank\" ></th>        <th class=\"blank\" ></th>        <th class=\"blank\" ></th>        <th class=\"blank\" ></th>        <th class=\"blank\" ></th>        <th class=\"blank\" ></th>        <th class=\"blank\" ></th>        <th class=\"blank\" ></th>    </tr></thead><tbody>\n",
       "                <tr>\n",
       "                        <th id=\"T_cfc1305e_b79c_11ea_b924_982cbc8f6b18level0_row0\" class=\"row_heading level0 row0\" >female</th>\n",
       "                        <td id=\"T_cfc1305e_b79c_11ea_b924_982cbc8f6b18row0_col0\" class=\"data row0 col0\" >0</td>\n",
       "                        <td id=\"T_cfc1305e_b79c_11ea_b924_982cbc8f6b18row0_col1\" class=\"data row0 col1\" >1</td>\n",
       "                        <td id=\"T_cfc1305e_b79c_11ea_b924_982cbc8f6b18row0_col2\" class=\"data row0 col2\" >0</td>\n",
       "                        <td id=\"T_cfc1305e_b79c_11ea_b924_982cbc8f6b18row0_col3\" class=\"data row0 col3\" >0</td>\n",
       "                        <td id=\"T_cfc1305e_b79c_11ea_b924_982cbc8f6b18row0_col4\" class=\"data row0 col4\" >78</td>\n",
       "                        <td id=\"T_cfc1305e_b79c_11ea_b924_982cbc8f6b18row0_col5\" class=\"data row0 col5\" >0</td>\n",
       "                        <td id=\"T_cfc1305e_b79c_11ea_b924_982cbc8f6b18row0_col6\" class=\"data row0 col6\" >72</td>\n",
       "                        <td id=\"T_cfc1305e_b79c_11ea_b924_982cbc8f6b18row0_col7\" class=\"data row0 col7\" >1</td>\n",
       "                        <td id=\"T_cfc1305e_b79c_11ea_b924_982cbc8f6b18row0_col8\" class=\"data row0 col8\" >0</td>\n",
       "            </tr>\n",
       "            <tr>\n",
       "                        <th id=\"T_cfc1305e_b79c_11ea_b924_982cbc8f6b18level0_row1\" class=\"row_heading level0 row1\" >male</th>\n",
       "                        <td id=\"T_cfc1305e_b79c_11ea_b924_982cbc8f6b18row1_col0\" class=\"data row1 col0\" >2</td>\n",
       "                        <td id=\"T_cfc1305e_b79c_11ea_b924_982cbc8f6b18row1_col1\" class=\"data row1 col1\" >0</td>\n",
       "                        <td id=\"T_cfc1305e_b79c_11ea_b924_982cbc8f6b18row1_col2\" class=\"data row1 col2\" >1</td>\n",
       "                        <td id=\"T_cfc1305e_b79c_11ea_b924_982cbc8f6b18row1_col3\" class=\"data row1 col3\" >21</td>\n",
       "                        <td id=\"T_cfc1305e_b79c_11ea_b924_982cbc8f6b18row1_col4\" class=\"data row1 col4\" >0</td>\n",
       "                        <td id=\"T_cfc1305e_b79c_11ea_b924_982cbc8f6b18row1_col5\" class=\"data row1 col5\" >240</td>\n",
       "                        <td id=\"T_cfc1305e_b79c_11ea_b924_982cbc8f6b18row1_col6\" class=\"data row1 col6\" >0</td>\n",
       "                        <td id=\"T_cfc1305e_b79c_11ea_b924_982cbc8f6b18row1_col7\" class=\"data row1 col7\" >0</td>\n",
       "                        <td id=\"T_cfc1305e_b79c_11ea_b924_982cbc8f6b18row1_col8\" class=\"data row1 col8\" >2</td>\n",
       "            </tr>\n",
       "    </tbody></table>"
      ],
      "text/plain": [
       "<pandas.io.formats.style.Styler at 0xcbb00a0>"
      ]
     },
     "execution_count": 29,
     "metadata": {},
     "output_type": "execute_result"
    }
   ],
   "source": [
    "#RIEMPIAMO I VALORI NULLI DI ETA' E DELL'IMBARCO\n",
    "# vediamo i vari titoli per ogni passeggero\n",
    "\n",
    "#train\n",
    "\n",
    "df['Initial']=0\n",
    "for i in df:\n",
    "    df['Initial']=df.Name.str.extract('([A-Za-z]+)\\.') \n",
    "\n",
    "pd.crosstab(df.Initial,df.Sex).T.style.background_gradient(cmap='summer_r') \n",
    "\n",
    "#test\n",
    "test_X['Initial']=0\n",
    "for i in test_X:\n",
    "    test_X['Initial']=test_X.Name.str.extract('([A-Za-z]+)\\.') \n",
    "pd.crosstab(test_X.Initial,test_X.Sex).T.style.background_gradient(cmap='summer_r') \n",
    "\n"
   ]
  },
  {
   "cell_type": "code",
   "execution_count": 30,
   "metadata": {},
   "outputs": [],
   "source": [
    "#uniamo i titoli marginali per diminuire il numero dei valori\n",
    "#train\n",
    "df['Initial'].replace(['Mlle','Mme','Ms','Dr','Major','Lady','Countess','Jonkheer','Col','Rev','Capt','Sir','Don'],['Miss','Miss','Miss','Mr','Mr','Mrs','Mrs','Other','Other','Other','Mr','Mr','Mr'],inplace=True)\n",
    "#test\n",
    "test_X['Initial'].replace(['Col','Dona','Dr','Ms','Rev'],['Other','Mrs','Mr','Miss','Other'],inplace=True)"
   ]
  },
  {
   "cell_type": "code",
   "execution_count": 31,
   "metadata": {},
   "outputs": [
    {
     "data": {
      "text/html": [
       "<div>\n",
       "<style scoped>\n",
       "    .dataframe tbody tr th:only-of-type {\n",
       "        vertical-align: middle;\n",
       "    }\n",
       "\n",
       "    .dataframe tbody tr th {\n",
       "        vertical-align: top;\n",
       "    }\n",
       "\n",
       "    .dataframe thead th {\n",
       "        text-align: right;\n",
       "    }\n",
       "</style>\n",
       "<table border=\"1\" class=\"dataframe\">\n",
       "  <thead>\n",
       "    <tr style=\"text-align: right;\">\n",
       "      <th></th>\n",
       "      <th>count</th>\n",
       "      <th>mean</th>\n",
       "      <th>std</th>\n",
       "      <th>min</th>\n",
       "      <th>25%</th>\n",
       "      <th>50%</th>\n",
       "      <th>75%</th>\n",
       "      <th>max</th>\n",
       "    </tr>\n",
       "    <tr>\n",
       "      <th>Initial</th>\n",
       "      <th></th>\n",
       "      <th></th>\n",
       "      <th></th>\n",
       "      <th></th>\n",
       "      <th></th>\n",
       "      <th></th>\n",
       "      <th></th>\n",
       "      <th></th>\n",
       "    </tr>\n",
       "  </thead>\n",
       "  <tbody>\n",
       "    <tr>\n",
       "      <th>Master</th>\n",
       "      <td>53.0</td>\n",
       "      <td>5.482642</td>\n",
       "      <td>4.161554</td>\n",
       "      <td>0.33</td>\n",
       "      <td>2.00</td>\n",
       "      <td>4.0</td>\n",
       "      <td>9.0</td>\n",
       "      <td>14.5</td>\n",
       "    </tr>\n",
       "    <tr>\n",
       "      <th>Miss</th>\n",
       "      <td>214.0</td>\n",
       "      <td>21.834533</td>\n",
       "      <td>12.143736</td>\n",
       "      <td>0.17</td>\n",
       "      <td>15.25</td>\n",
       "      <td>22.0</td>\n",
       "      <td>30.0</td>\n",
       "      <td>63.0</td>\n",
       "    </tr>\n",
       "    <tr>\n",
       "      <th>Mr</th>\n",
       "      <td>593.0</td>\n",
       "      <td>32.545531</td>\n",
       "      <td>12.566598</td>\n",
       "      <td>11.00</td>\n",
       "      <td>23.00</td>\n",
       "      <td>30.0</td>\n",
       "      <td>40.0</td>\n",
       "      <td>80.0</td>\n",
       "    </tr>\n",
       "    <tr>\n",
       "      <th>Mrs</th>\n",
       "      <td>173.0</td>\n",
       "      <td>37.046243</td>\n",
       "      <td>12.820684</td>\n",
       "      <td>14.00</td>\n",
       "      <td>27.00</td>\n",
       "      <td>36.0</td>\n",
       "      <td>47.0</td>\n",
       "      <td>76.0</td>\n",
       "    </tr>\n",
       "    <tr>\n",
       "      <th>Other</th>\n",
       "      <td>13.0</td>\n",
       "      <td>44.923077</td>\n",
       "      <td>11.499721</td>\n",
       "      <td>27.00</td>\n",
       "      <td>38.00</td>\n",
       "      <td>47.0</td>\n",
       "      <td>54.0</td>\n",
       "      <td>60.0</td>\n",
       "    </tr>\n",
       "  </tbody>\n",
       "</table>\n",
       "</div>"
      ],
      "text/plain": [
       "         count       mean        std    min    25%   50%   75%   max\n",
       "Initial                                                             \n",
       "Master    53.0   5.482642   4.161554   0.33   2.00   4.0   9.0  14.5\n",
       "Miss     214.0  21.834533  12.143736   0.17  15.25  22.0  30.0  63.0\n",
       "Mr       593.0  32.545531  12.566598  11.00  23.00  30.0  40.0  80.0\n",
       "Mrs      173.0  37.046243  12.820684  14.00  27.00  36.0  47.0  76.0\n",
       "Other     13.0  44.923077  11.499721  27.00  38.00  47.0  54.0  60.0"
      ]
     },
     "execution_count": 31,
     "metadata": {},
     "output_type": "execute_result"
    }
   ],
   "source": [
    "#calcoliamo la media dell'età\n",
    "#uniamo il train e il test per calcolare la media delle età su più esempi\n",
    "average_age=df.append(test_X)\n",
    "\n",
    "average_age.groupby('Initial')[\"Age\"].describe()\n"
   ]
  },
  {
   "cell_type": "code",
   "execution_count": 32,
   "metadata": {},
   "outputs": [],
   "source": [
    "#rimpiazziamo le età mancanti con la media dell'età per titolo\n",
    "#train\n",
    "\n",
    "df.loc[(df.Age.isnull())&(df.Initial=='Mr'),'Age']=33\n",
    "df.loc[(df.Age.isnull())&(df.Initial=='Mrs'),'Age']=37\n",
    "df.loc[(df.Age.isnull())&(df.Initial=='Master'),'Age']=5\n",
    "df.loc[(df.Age.isnull())&(df.Initial=='Miss'),'Age']=22\n",
    "df.loc[(df.Age.isnull())&(df.Initial=='Other'),'Age']=45\n",
    "\n",
    "#test\n",
    "test_X.loc[(test_X.Age.isnull())&(test_X.Initial=='Mr'),'Age']=33\n",
    "test_X.loc[(test_X.Age.isnull())&(test_X.Initial=='Mrs'),'Age']=37\n",
    "test_X.loc[(test_X.Age.isnull())&(test_X.Initial=='Master'),'Age']=5\n",
    "test_X.loc[(test_X.Age.isnull())&(test_X.Initial=='Miss'),'Age']=22\n",
    "test_X.loc[(test_X.Age.isnull())&(test_X.Initial=='Other'),'Age']=45"
   ]
  },
  {
   "cell_type": "code",
   "execution_count": 33,
   "metadata": {},
   "outputs": [
    {
     "data": {
      "text/plain": [
       "False"
      ]
     },
     "execution_count": 33,
     "metadata": {},
     "output_type": "execute_result"
    }
   ],
   "source": [
    "#controlliamo se ci sono valori nulli\n",
    "df.Age.isnull().any()\n",
    "test_X.Age.isnull().any()\n"
   ]
  },
  {
   "cell_type": "code",
   "execution_count": 34,
   "metadata": {},
   "outputs": [],
   "source": [
    "#ora che non abbiamo più valori nuli in Age creiamo una colonna dove raggruppiamo l'età dei passegeri per decenni \n",
    "bins= [0,10,20,30,40,50,60,70,80]\n",
    "labels = ['0-10','10-20','20-30','30-40','40-50', \"50-60\",\"60-70\",\"70-80\"]\n",
    "df['AgeGroup'] = pd.cut(df['Age'], bins=bins, labels=labels, right=False)\n",
    "test_X['AgeGroup'] = pd.cut(test_X['Age'], bins=bins, labels=labels, right=False)"
   ]
  },
  {
   "cell_type": "code",
   "execution_count": null,
   "metadata": {},
   "outputs": [],
   "source": []
  },
  {
   "cell_type": "code",
   "execution_count": 35,
   "metadata": {},
   "outputs": [
    {
     "data": {
      "text/plain": [
       "Text(0.5, 1.0, 'Age category survival rate')"
      ]
     },
     "execution_count": 35,
     "metadata": {},
     "output_type": "execute_result"
    },
    {
     "data": {
      "image/png": "[encoded data removed]",
      "text/plain": [
       "<Figure size 432x288 with 1 Axes>"
      ]
     },
     "metadata": {
      "needs_background": "light"
     },
     "output_type": "display_data"
    }
   ],
   "source": [
    "#vediamo ora graficamente il tasso di sopravvivenza per età raggruppata\n",
    "g=df.groupby(\"AgeGroup\")\n",
    "d=g.mean()\n",
    "y_age= d[\"Survived\"]\n",
    "x_age=[\"0-10\",\"10-20\",\"20-30\",\"30-40\",\"40-50\", \"50-60\",\"60-70\",\"70-80\"]\n",
    "y_age=y_age*100\n",
    "\n",
    "plt.plot(x_age,y_age)\n",
    "\n",
    "plt.ylabel('Survival rate')\n",
    "plt.xlabel(\"Age category\")\n",
    "plt.title('Age category survival rate')"
   ]
  },
  {
   "cell_type": "code",
   "execution_count": 36,
   "metadata": {},
   "outputs": [],
   "source": [
    "#rimpiazziamo i valori mancanti tra gli imbarcati con S data la grande maggioranza di imbarcati da Souththempton\n",
    "df.loc[(df.Embarked.isnull()), 'Embarked']='S'"
   ]
  },
  {
   "cell_type": "code",
   "execution_count": 37,
   "metadata": {},
   "outputs": [
    {
     "data": {
      "text/plain": [
       "False"
      ]
     },
     "execution_count": 37,
     "metadata": {},
     "output_type": "execute_result"
    }
   ],
   "source": [
    "#vediamo se ci sono ancora valori nulli\n",
    "df.Embarked.isnull().any()\n",
    "test_X.Embarked.isnull().any()"
   ]
  },
  {
   "cell_type": "code",
   "execution_count": 38,
   "metadata": {},
   "outputs": [
    {
     "data": {
      "text/html": [
       "<div>\n",
       "<style scoped>\n",
       "    .dataframe tbody tr th:only-of-type {\n",
       "        vertical-align: middle;\n",
       "    }\n",
       "\n",
       "    .dataframe tbody tr th {\n",
       "        vertical-align: top;\n",
       "    }\n",
       "\n",
       "    .dataframe thead th {\n",
       "        text-align: right;\n",
       "    }\n",
       "</style>\n",
       "<table border=\"1\" class=\"dataframe\">\n",
       "  <thead>\n",
       "    <tr style=\"text-align: right;\">\n",
       "      <th></th>\n",
       "      <th>PassengerId</th>\n",
       "      <th>Pclass</th>\n",
       "      <th>Age</th>\n",
       "      <th>SibSp</th>\n",
       "      <th>Parch</th>\n",
       "      <th>Fare</th>\n",
       "    </tr>\n",
       "    <tr>\n",
       "      <th>FamilySize</th>\n",
       "      <th></th>\n",
       "      <th></th>\n",
       "      <th></th>\n",
       "      <th></th>\n",
       "      <th></th>\n",
       "      <th></th>\n",
       "    </tr>\n",
       "  </thead>\n",
       "  <tbody>\n",
       "    <tr>\n",
       "      <th>0</th>\n",
       "      <td>1100.438735</td>\n",
       "      <td>2.383399</td>\n",
       "      <td>30.221344</td>\n",
       "      <td>0.000000</td>\n",
       "      <td>0.000000</td>\n",
       "      <td>22.862930</td>\n",
       "    </tr>\n",
       "    <tr>\n",
       "      <th>1</th>\n",
       "      <td>1090.243243</td>\n",
       "      <td>1.837838</td>\n",
       "      <td>35.166622</td>\n",
       "      <td>0.810811</td>\n",
       "      <td>0.189189</td>\n",
       "      <td>54.130408</td>\n",
       "    </tr>\n",
       "    <tr>\n",
       "      <th>2</th>\n",
       "      <td>1115.824561</td>\n",
       "      <td>2.228070</td>\n",
       "      <td>26.922456</td>\n",
       "      <td>0.929825</td>\n",
       "      <td>1.070175</td>\n",
       "      <td>44.918784</td>\n",
       "    </tr>\n",
       "    <tr>\n",
       "      <th>3</th>\n",
       "      <td>1109.571429</td>\n",
       "      <td>2.214286</td>\n",
       "      <td>21.863571</td>\n",
       "      <td>1.214286</td>\n",
       "      <td>1.785714</td>\n",
       "      <td>43.566371</td>\n",
       "    </tr>\n",
       "    <tr>\n",
       "      <th>4</th>\n",
       "      <td>1079.428571</td>\n",
       "      <td>2.142857</td>\n",
       "      <td>30.285714</td>\n",
       "      <td>1.714286</td>\n",
       "      <td>2.285714</td>\n",
       "      <td>127.152386</td>\n",
       "    </tr>\n",
       "    <tr>\n",
       "      <th>5</th>\n",
       "      <td>951.000000</td>\n",
       "      <td>1.666667</td>\n",
       "      <td>32.666667</td>\n",
       "      <td>2.666667</td>\n",
       "      <td>2.333333</td>\n",
       "      <td>185.041667</td>\n",
       "    </tr>\n",
       "    <tr>\n",
       "      <th>6</th>\n",
       "      <td>1122.250000</td>\n",
       "      <td>3.000000</td>\n",
       "      <td>24.000000</td>\n",
       "      <td>3.250000</td>\n",
       "      <td>2.750000</td>\n",
       "      <td>25.484375</td>\n",
       "    </tr>\n",
       "    <tr>\n",
       "      <th>7</th>\n",
       "      <td>1031.500000</td>\n",
       "      <td>3.000000</td>\n",
       "      <td>25.000000</td>\n",
       "      <td>3.000000</td>\n",
       "      <td>4.000000</td>\n",
       "      <td>46.900000</td>\n",
       "    </tr>\n",
       "    <tr>\n",
       "      <th>10</th>\n",
       "      <td>1205.750000</td>\n",
       "      <td>3.000000</td>\n",
       "      <td>26.625000</td>\n",
       "      <td>4.500000</td>\n",
       "      <td>5.500000</td>\n",
       "      <td>69.550000</td>\n",
       "    </tr>\n",
       "  </tbody>\n",
       "</table>\n",
       "</div>"
      ],
      "text/plain": [
       "            PassengerId    Pclass        Age     SibSp     Parch        Fare\n",
       "FamilySize                                                                  \n",
       "0           1100.438735  2.383399  30.221344  0.000000  0.000000   22.862930\n",
       "1           1090.243243  1.837838  35.166622  0.810811  0.189189   54.130408\n",
       "2           1115.824561  2.228070  26.922456  0.929825  1.070175   44.918784\n",
       "3           1109.571429  2.214286  21.863571  1.214286  1.785714   43.566371\n",
       "4           1079.428571  2.142857  30.285714  1.714286  2.285714  127.152386\n",
       "5            951.000000  1.666667  32.666667  2.666667  2.333333  185.041667\n",
       "6           1122.250000  3.000000  24.000000  3.250000  2.750000   25.484375\n",
       "7           1031.500000  3.000000  25.000000  3.000000  4.000000   46.900000\n",
       "10          1205.750000  3.000000  26.625000  4.500000  5.500000   69.550000"
      ]
     },
     "execution_count": 38,
     "metadata": {},
     "output_type": "execute_result"
    }
   ],
   "source": [
    "#creiamo un altra colonna raggruppata per la grandezza dell famiglia sommando Parch e SibSp\n",
    "\n",
    "#train\n",
    "df[\"FamilySize\"]= df[\"Parch\"] + df[\"SibSp\"]\n",
    "df.groupby(\"FamilySize\").mean()\n",
    "#test\n",
    "test_X[\"FamilySize\"]= test_X[\"Parch\"] + test_X[\"SibSp\"]\n",
    "test_X.groupby(\"FamilySize\").mean()"
   ]
  },
  {
   "cell_type": "code",
   "execution_count": 39,
   "metadata": {},
   "outputs": [],
   "source": [
    "#raggruppiamo i valori per il numero di parenti\n",
    "#0=0,  1=1  ,2=2,  3=3-4, 4=5-6-7-8-9-10\n",
    "bins= [0,1,2,4,5,11]\n",
    "labels = [\"0\",\"1\",\"2\",\"3\",\"4\"]\n",
    "df['Familysize'] = pd.cut(df['FamilySize'], bins=bins, labels=labels, right=False)\n",
    "test_X['Familysize'] = pd.cut(test_X['FamilySize'], bins=bins, labels=labels, right=False)"
   ]
  },
  {
   "cell_type": "code",
   "execution_count": 40,
   "metadata": {},
   "outputs": [
    {
     "data": {
      "text/html": [
       "<div>\n",
       "<style scoped>\n",
       "    .dataframe tbody tr th:only-of-type {\n",
       "        vertical-align: middle;\n",
       "    }\n",
       "\n",
       "    .dataframe tbody tr th {\n",
       "        vertical-align: top;\n",
       "    }\n",
       "\n",
       "    .dataframe thead th {\n",
       "        text-align: right;\n",
       "    }\n",
       "</style>\n",
       "<table border=\"1\" class=\"dataframe\">\n",
       "  <thead>\n",
       "    <tr style=\"text-align: right;\">\n",
       "      <th></th>\n",
       "      <th>PassengerId</th>\n",
       "      <th>Survived</th>\n",
       "      <th>Pclass</th>\n",
       "      <th>Age</th>\n",
       "      <th>SibSp</th>\n",
       "      <th>Parch</th>\n",
       "      <th>Fare</th>\n",
       "      <th>FamilySize</th>\n",
       "    </tr>\n",
       "    <tr>\n",
       "      <th>Familysize</th>\n",
       "      <th></th>\n",
       "      <th></th>\n",
       "      <th></th>\n",
       "      <th></th>\n",
       "      <th></th>\n",
       "      <th></th>\n",
       "      <th></th>\n",
       "      <th></th>\n",
       "    </tr>\n",
       "  </thead>\n",
       "  <tbody>\n",
       "    <tr>\n",
       "      <th>0</th>\n",
       "      <td>458.000000</td>\n",
       "      <td>0.303538</td>\n",
       "      <td>2.400372</td>\n",
       "      <td>31.992551</td>\n",
       "      <td>0.000000</td>\n",
       "      <td>0.000000</td>\n",
       "      <td>21.242689</td>\n",
       "      <td>0.000000</td>\n",
       "    </tr>\n",
       "    <tr>\n",
       "      <th>1</th>\n",
       "      <td>412.838509</td>\n",
       "      <td>0.552795</td>\n",
       "      <td>1.919255</td>\n",
       "      <td>31.611304</td>\n",
       "      <td>0.763975</td>\n",
       "      <td>0.236025</td>\n",
       "      <td>49.894129</td>\n",
       "      <td>1.000000</td>\n",
       "    </tr>\n",
       "    <tr>\n",
       "      <th>2</th>\n",
       "      <td>462.961832</td>\n",
       "      <td>0.610687</td>\n",
       "      <td>2.190840</td>\n",
       "      <td>24.318702</td>\n",
       "      <td>0.977099</td>\n",
       "      <td>1.244275</td>\n",
       "      <td>43.051176</td>\n",
       "      <td>2.221374</td>\n",
       "    </tr>\n",
       "    <tr>\n",
       "      <th>3</th>\n",
       "      <td>367.866667</td>\n",
       "      <td>0.200000</td>\n",
       "      <td>2.666667</td>\n",
       "      <td>20.000000</td>\n",
       "      <td>2.133333</td>\n",
       "      <td>1.866667</td>\n",
       "      <td>58.094453</td>\n",
       "      <td>4.000000</td>\n",
       "    </tr>\n",
       "    <tr>\n",
       "      <th>4</th>\n",
       "      <td>400.148936</td>\n",
       "      <td>0.148936</td>\n",
       "      <td>2.808511</td>\n",
       "      <td>18.106383</td>\n",
       "      <td>3.893617</td>\n",
       "      <td>2.361702</td>\n",
       "      <td>58.352128</td>\n",
       "      <td>6.255319</td>\n",
       "    </tr>\n",
       "  </tbody>\n",
       "</table>\n",
       "</div>"
      ],
      "text/plain": [
       "            PassengerId  Survived    Pclass        Age     SibSp     Parch  \\\n",
       "Familysize                                                                   \n",
       "0            458.000000  0.303538  2.400372  31.992551  0.000000  0.000000   \n",
       "1            412.838509  0.552795  1.919255  31.611304  0.763975  0.236025   \n",
       "2            462.961832  0.610687  2.190840  24.318702  0.977099  1.244275   \n",
       "3            367.866667  0.200000  2.666667  20.000000  2.133333  1.866667   \n",
       "4            400.148936  0.148936  2.808511  18.106383  3.893617  2.361702   \n",
       "\n",
       "                 Fare  FamilySize  \n",
       "Familysize                         \n",
       "0           21.242689    0.000000  \n",
       "1           49.894129    1.000000  \n",
       "2           43.051176    2.221374  \n",
       "3           58.094453    4.000000  \n",
       "4           58.352128    6.255319  "
      ]
     },
     "execution_count": 40,
     "metadata": {},
     "output_type": "execute_result"
    }
   ],
   "source": [
    "df.groupby(\"Familysize\").mean()"
   ]
  },
  {
   "cell_type": "code",
   "execution_count": 41,
   "metadata": {},
   "outputs": [],
   "source": [
    "#ora raggruppiamo il fare per 6 categorie \n",
    "df[\"FareCategory\"]= pd.qcut(df[\"Fare\"],6)\n",
    "test_X[\"FareCategory\"]= pd.qcut(test_X[\"Fare\"],6)"
   ]
  },
  {
   "cell_type": "code",
   "execution_count": 42,
   "metadata": {},
   "outputs": [
    {
     "data": {
      "text/plain": [
       "Text(0.5, 1.0, 'Fare category survival rate')"
      ]
     },
     "execution_count": 42,
     "metadata": {},
     "output_type": "execute_result"
    },
    {
     "data": {
      "image/png": "[encoded data removed]",
      "text/plain": [
       "<Figure size 432x288 with 1 Axes>"
      ]
     },
     "metadata": {
      "needs_background": "light"
     },
     "output_type": "display_data"
    }
   ],
   "source": [
    "#vediamo graficamente la correlazione tra tasso di sopravvivenza e la tariffa pagata\n",
    "plt.plot(df.groupby([\"FareCategory\"]).mean()[\"Survived\"])\n",
    "\n",
    "plt.ylabel('Survival rate')\n",
    "plt.xlabel(\"Fare category\")\n",
    "plt.title('Fare category survival rate')"
   ]
  },
  {
   "cell_type": "code",
   "execution_count": null,
   "metadata": {},
   "outputs": [],
   "source": []
  },
  {
   "cell_type": "code",
   "execution_count": 43,
   "metadata": {},
   "outputs": [
    {
     "data": {
      "text/html": [
       "<div>\n",
       "<style scoped>\n",
       "    .dataframe tbody tr th:only-of-type {\n",
       "        vertical-align: middle;\n",
       "    }\n",
       "\n",
       "    .dataframe tbody tr th {\n",
       "        vertical-align: top;\n",
       "    }\n",
       "\n",
       "    .dataframe thead th {\n",
       "        text-align: right;\n",
       "    }\n",
       "</style>\n",
       "<table border=\"1\" class=\"dataframe\">\n",
       "  <thead>\n",
       "    <tr style=\"text-align: right;\">\n",
       "      <th></th>\n",
       "      <th>PassengerId</th>\n",
       "      <th>Survived</th>\n",
       "      <th>Pclass</th>\n",
       "      <th>Name</th>\n",
       "      <th>Sex</th>\n",
       "      <th>Age</th>\n",
       "      <th>SibSp</th>\n",
       "      <th>Parch</th>\n",
       "      <th>Ticket</th>\n",
       "      <th>Fare</th>\n",
       "      <th>...</th>\n",
       "      <th>Embarked</th>\n",
       "      <th>Initial</th>\n",
       "      <th>AgeGroup</th>\n",
       "      <th>FamilySize</th>\n",
       "      <th>Familysize</th>\n",
       "      <th>FareCategory</th>\n",
       "      <th>Parch_cat</th>\n",
       "      <th>Sex_cat</th>\n",
       "      <th>Embarked_cat</th>\n",
       "      <th>Initial_cat</th>\n",
       "    </tr>\n",
       "  </thead>\n",
       "  <tbody>\n",
       "    <tr>\n",
       "      <th>0</th>\n",
       "      <td>1</td>\n",
       "      <td>0</td>\n",
       "      <td>3</td>\n",
       "      <td>Braund, Mr. Owen Harris</td>\n",
       "      <td>male</td>\n",
       "      <td>22.0</td>\n",
       "      <td>1</td>\n",
       "      <td>0</td>\n",
       "      <td>A/5 21171</td>\n",
       "      <td>7.2500</td>\n",
       "      <td>...</td>\n",
       "      <td>S</td>\n",
       "      <td>Mr</td>\n",
       "      <td>20-30</td>\n",
       "      <td>1</td>\n",
       "      <td>1</td>\n",
       "      <td>(-0.001, 7.775]</td>\n",
       "      <td>0</td>\n",
       "      <td>0</td>\n",
       "      <td>0</td>\n",
       "      <td>0</td>\n",
       "    </tr>\n",
       "    <tr>\n",
       "      <th>1</th>\n",
       "      <td>2</td>\n",
       "      <td>1</td>\n",
       "      <td>1</td>\n",
       "      <td>Cumings, Mrs. John Bradley (Florence Briggs Th...</td>\n",
       "      <td>female</td>\n",
       "      <td>38.0</td>\n",
       "      <td>1</td>\n",
       "      <td>0</td>\n",
       "      <td>PC 17599</td>\n",
       "      <td>71.2833</td>\n",
       "      <td>...</td>\n",
       "      <td>C</td>\n",
       "      <td>Mrs</td>\n",
       "      <td>30-40</td>\n",
       "      <td>1</td>\n",
       "      <td>1</td>\n",
       "      <td>(52.369, 512.329]</td>\n",
       "      <td>0</td>\n",
       "      <td>1</td>\n",
       "      <td>1</td>\n",
       "      <td>1</td>\n",
       "    </tr>\n",
       "    <tr>\n",
       "      <th>2</th>\n",
       "      <td>3</td>\n",
       "      <td>1</td>\n",
       "      <td>3</td>\n",
       "      <td>Heikkinen, Miss. Laina</td>\n",
       "      <td>female</td>\n",
       "      <td>26.0</td>\n",
       "      <td>0</td>\n",
       "      <td>0</td>\n",
       "      <td>STON/O2. 3101282</td>\n",
       "      <td>7.9250</td>\n",
       "      <td>...</td>\n",
       "      <td>S</td>\n",
       "      <td>Miss</td>\n",
       "      <td>20-30</td>\n",
       "      <td>0</td>\n",
       "      <td>0</td>\n",
       "      <td>(7.775, 8.662]</td>\n",
       "      <td>0</td>\n",
       "      <td>1</td>\n",
       "      <td>0</td>\n",
       "      <td>2</td>\n",
       "    </tr>\n",
       "    <tr>\n",
       "      <th>3</th>\n",
       "      <td>4</td>\n",
       "      <td>1</td>\n",
       "      <td>1</td>\n",
       "      <td>Futrelle, Mrs. Jacques Heath (Lily May Peel)</td>\n",
       "      <td>female</td>\n",
       "      <td>35.0</td>\n",
       "      <td>1</td>\n",
       "      <td>0</td>\n",
       "      <td>113803</td>\n",
       "      <td>53.1000</td>\n",
       "      <td>...</td>\n",
       "      <td>S</td>\n",
       "      <td>Mrs</td>\n",
       "      <td>30-40</td>\n",
       "      <td>1</td>\n",
       "      <td>1</td>\n",
       "      <td>(52.369, 512.329]</td>\n",
       "      <td>0</td>\n",
       "      <td>1</td>\n",
       "      <td>0</td>\n",
       "      <td>1</td>\n",
       "    </tr>\n",
       "    <tr>\n",
       "      <th>4</th>\n",
       "      <td>5</td>\n",
       "      <td>0</td>\n",
       "      <td>3</td>\n",
       "      <td>Allen, Mr. William Henry</td>\n",
       "      <td>male</td>\n",
       "      <td>35.0</td>\n",
       "      <td>0</td>\n",
       "      <td>0</td>\n",
       "      <td>373450</td>\n",
       "      <td>8.0500</td>\n",
       "      <td>...</td>\n",
       "      <td>S</td>\n",
       "      <td>Mr</td>\n",
       "      <td>30-40</td>\n",
       "      <td>0</td>\n",
       "      <td>0</td>\n",
       "      <td>(7.775, 8.662]</td>\n",
       "      <td>0</td>\n",
       "      <td>0</td>\n",
       "      <td>0</td>\n",
       "      <td>0</td>\n",
       "    </tr>\n",
       "  </tbody>\n",
       "</table>\n",
       "<p>5 rows × 21 columns</p>\n",
       "</div>"
      ],
      "text/plain": [
       "   PassengerId  Survived  Pclass  \\\n",
       "0            1         0       3   \n",
       "1            2         1       1   \n",
       "2            3         1       3   \n",
       "3            4         1       1   \n",
       "4            5         0       3   \n",
       "\n",
       "                                                Name     Sex   Age  SibSp  \\\n",
       "0                            Braund, Mr. Owen Harris    male  22.0      1   \n",
       "1  Cumings, Mrs. John Bradley (Florence Briggs Th...  female  38.0      1   \n",
       "2                             Heikkinen, Miss. Laina  female  26.0      0   \n",
       "3       Futrelle, Mrs. Jacques Heath (Lily May Peel)  female  35.0      1   \n",
       "4                           Allen, Mr. William Henry    male  35.0      0   \n",
       "\n",
       "   Parch            Ticket     Fare  ... Embarked Initial AgeGroup FamilySize  \\\n",
       "0      0         A/5 21171   7.2500  ...        S      Mr    20-30          1   \n",
       "1      0          PC 17599  71.2833  ...        C     Mrs    30-40          1   \n",
       "2      0  STON/O2. 3101282   7.9250  ...        S    Miss    20-30          0   \n",
       "3      0            113803  53.1000  ...        S     Mrs    30-40          1   \n",
       "4      0            373450   8.0500  ...        S      Mr    30-40          0   \n",
       "\n",
       "   Familysize       FareCategory Parch_cat  Sex_cat  Embarked_cat  Initial_cat  \n",
       "0           1    (-0.001, 7.775]         0        0             0            0  \n",
       "1           1  (52.369, 512.329]         0        1             1            1  \n",
       "2           0     (7.775, 8.662]         0        1             0            2  \n",
       "3           1  (52.369, 512.329]         0        1             0            1  \n",
       "4           0     (7.775, 8.662]         0        0             0            0  \n",
       "\n",
       "[5 rows x 21 columns]"
      ]
     },
     "execution_count": 43,
     "metadata": {},
     "output_type": "execute_result"
    }
   ],
   "source": [
    "#rendiamo le variabili sex, embarked, AgeGroup, FareCategory e initial numeriche, per poterle usare nei nostri modelli\n",
    "#per il train set...\n",
    "# parch category dove: 0= non è un figlio o un genitore, 1=figlio, 2=genitore\n",
    "#assumiamo che sopra i 21 anni una persona diventa genitore se Parch è maggiore di 1, figlio se l'età è minore di 21\n",
    "df[\"Parch_cat\"]=0\n",
    "df.loc[(df['Parch']==0),'Parch_cat']=0\n",
    "df.loc[(df['Parch']>0) & (df[\"Age\"]<21),'Parch_cat']=1\n",
    "df.loc[(df['Parch']>0) & (df[\"Age\"]>=21),'Parch_cat']=2\n",
    "\n",
    "#maschio=0, femmina=1\n",
    "df[\"Sex_cat\"]=0\n",
    "df.loc[(df.Sex=='male'),'Sex_cat']=0\n",
    "df.loc[(df.Sex=='female'),'Sex_cat']=1\n",
    "\n",
    "#souththempton=0,  Cherbourg=1, Queenstown=2\n",
    "df[\"Embarked_cat\"]=0\n",
    "df.loc[(df.Embarked=='S'),'Embarked_cat']=0\n",
    "df.loc[(df.Embarked=='C'),'Embarked_cat']=1\n",
    "df.loc[(df.Embarked=='Q'),'Embarked_cat']=2\n",
    "#creiamo anche una categoria per titolo della persona\n",
    "#Mr=0, Mrs=1, Miss=2, Master=3, other=4\n",
    "df[\"Initial_cat\"]=0\n",
    "df.loc[(df.Initial=='Mr'),'Initial_cat']=0\n",
    "df.loc[(df.Initial=='Mrs'),'Initial_cat']=1\n",
    "df.loc[(df.Initial=='Miss'),'Initial_cat']=2\n",
    "df.loc[(df.Initial=='Master'),'Initial_cat']=3\n",
    "df.loc[(df.Initial=='Other'),'Initial_cat']=4\n",
    "\n",
    "df.head()\n"
   ]
  },
  {
   "cell_type": "code",
   "execution_count": null,
   "metadata": {},
   "outputs": [],
   "source": []
  },
  {
   "cell_type": "code",
   "execution_count": 44,
   "metadata": {},
   "outputs": [],
   "source": [
    "\n",
    "df[\"AgeCategory\"]=0\n",
    "df.loc[(df.AgeGroup=='0-10'),'AgeCategory']=0\n",
    "df.loc[(df.AgeGroup=='10-20'),'AgeCategory']=1\n",
    "df.loc[(df.AgeGroup=='20-30'),'AgeCategory']=2\n",
    "df.loc[(df.AgeGroup=='30-40'),'AgeCategory']=3\n",
    "df.loc[(df.AgeGroup=='40-50'),'AgeCategory']=4\n",
    "df.loc[(df.AgeGroup=='50-60'),'AgeCategory']=5\n",
    "df.loc[(df.AgeGroup=='60-70'),'AgeCategory']=6\n",
    "df.loc[(df.AgeGroup=='70-80'),'AgeCategory']=7\n",
    "\n",
    "df[\"FareCategory\"]=0\n",
    "df.loc[df['Fare']<=7.775,'FareCategory']=0\n",
    "df.loc[(df['Fare']>7.775)&(df['Fare']<=8.662),'FareCategory']=1\n",
    "df.loc[(df['Fare']>8.662)&(df['Fare']<=14.454),'FareCategory']=2\n",
    "df.loc[(df['Fare']>14.454)&(df['Fare']<=26.0),'FareCategory']=3\n",
    "df.loc[(df['Fare']>26.0)&(df['Fare']<=52.369),'FareCategory']=4\n",
    "df.loc[df['Fare']>52.369,'FareCategory']=5"
   ]
  },
  {
   "cell_type": "code",
   "execution_count": 45,
   "metadata": {},
   "outputs": [],
   "source": [
    "#facciamo ora la stessa cosa per il test set\n",
    "\n",
    "test_X[\"Parch_cat\"]=0\n",
    "test_X.loc[(test_X['Parch']==0),'Parch_cat']=0\n",
    "test_X.loc[(test_X['Parch']>0) & (test_X[\"Age\"]<21),'Parch_cat']=1\n",
    "test_X.loc[(test_X['Parch']>0) & (test_X[\"Age\"]>=21),'Parch_cat']=2\n",
    "\n",
    "test_X[\"Sex_cat\"]=0\n",
    "test_X.loc[(test_X.Sex=='male'),'Sex_cat']=0\n",
    "test_X.loc[(test_X.Sex=='female'),'Sex_cat']=1\n",
    "\n",
    "test_X[\"Embarked_cat\"]=0\n",
    "test_X.loc[(test_X.Embarked=='S'),'Embarked_cat']=0\n",
    "test_X.loc[(test_X.Embarked=='C'),'Embarked_cat']=1\n",
    "test_X.loc[(test_X.Embarked=='Q'),'Embarked_cat']=2\n",
    "\n",
    "test_X[\"Initial_cat\"]=0\n",
    "test_X.loc[(test_X.Initial=='Mr'),'Initial_cat']=0\n",
    "test_X.loc[(test_X.Initial=='Mrs'),'Initial_cat']=1\n",
    "test_X.loc[(test_X.Initial=='Miss'),'Initial_cat']=2\n",
    "test_X.loc[(test_X.Initial=='Master'),'Initial_cat']=3\n",
    "test_X.loc[(test_X.Initial=='Other'),'Initial_cat']=4\n",
    "\n",
    "test_X[\"AgeCategory\"]=0\n",
    "test_X.loc[(test_X.AgeGroup=='0-10'),'AgeCategory']=0\n",
    "test_X.loc[(test_X.AgeGroup=='10-20'),'AgeCategory']=1\n",
    "test_X.loc[(test_X.AgeGroup=='20-30'),'AgeCategory']=2\n",
    "test_X.loc[(test_X.AgeGroup=='30-40'),'AgeCategory']=3\n",
    "test_X.loc[(test_X.AgeGroup=='40-50'),'AgeCategory']=4\n",
    "test_X.loc[(test_X.AgeGroup=='50-60'),'AgeCategory']=5\n",
    "test_X.loc[(test_X.AgeGroup=='60-70'),'AgeCategory']=6\n",
    "test_X.loc[(test_X.AgeGroup=='70-80'),'AgeCategory']=7\n",
    "\n",
    "test_X[\"FareCategory\"]=0\n",
    "test_X.loc[test_X['Fare']<=7.775,'FareCategory']=0\n",
    "test_X.loc[(test_X['Fare']>7.775)&(df['Fare']<=8.662),'FareCategory']=1\n",
    "test_X.loc[(test_X['Fare']>8.662)&(df['Fare']<=14.454),'FareCategory']=2\n",
    "test_X.loc[(test_X['Fare']>14.454)&(df['Fare']<=26.0),'FareCategory']=3\n",
    "test_X.loc[(test_X['Fare']>26.0)&(df['Fare']<=52.369),'FareCategory']=4\n",
    "test_X.loc[test_X['Fare']>52.369,'FareCategory']=5\n"
   ]
  },
  {
   "cell_type": "code",
   "execution_count": 46,
   "metadata": {},
   "outputs": [
    {
     "data": {
      "text/html": [
       "<div>\n",
       "<style scoped>\n",
       "    .dataframe tbody tr th:only-of-type {\n",
       "        vertical-align: middle;\n",
       "    }\n",
       "\n",
       "    .dataframe tbody tr th {\n",
       "        vertical-align: top;\n",
       "    }\n",
       "\n",
       "    .dataframe thead th {\n",
       "        text-align: right;\n",
       "    }\n",
       "</style>\n",
       "<table border=\"1\" class=\"dataframe\">\n",
       "  <thead>\n",
       "    <tr style=\"text-align: right;\">\n",
       "      <th></th>\n",
       "      <th>PassengerId</th>\n",
       "      <th>Survived</th>\n",
       "      <th>Pclass</th>\n",
       "      <th>Name</th>\n",
       "      <th>Sex</th>\n",
       "      <th>Age</th>\n",
       "      <th>SibSp</th>\n",
       "      <th>Parch</th>\n",
       "      <th>Ticket</th>\n",
       "      <th>Fare</th>\n",
       "      <th>...</th>\n",
       "      <th>Initial</th>\n",
       "      <th>AgeGroup</th>\n",
       "      <th>FamilySize</th>\n",
       "      <th>Familysize</th>\n",
       "      <th>FareCategory</th>\n",
       "      <th>Parch_cat</th>\n",
       "      <th>Sex_cat</th>\n",
       "      <th>Embarked_cat</th>\n",
       "      <th>Initial_cat</th>\n",
       "      <th>AgeCategory</th>\n",
       "    </tr>\n",
       "  </thead>\n",
       "  <tbody>\n",
       "    <tr>\n",
       "      <th>0</th>\n",
       "      <td>1</td>\n",
       "      <td>0</td>\n",
       "      <td>3</td>\n",
       "      <td>Braund, Mr. Owen Harris</td>\n",
       "      <td>male</td>\n",
       "      <td>22.0</td>\n",
       "      <td>1</td>\n",
       "      <td>0</td>\n",
       "      <td>A/5 21171</td>\n",
       "      <td>7.2500</td>\n",
       "      <td>...</td>\n",
       "      <td>Mr</td>\n",
       "      <td>20-30</td>\n",
       "      <td>1</td>\n",
       "      <td>1</td>\n",
       "      <td>0</td>\n",
       "      <td>0</td>\n",
       "      <td>0</td>\n",
       "      <td>0</td>\n",
       "      <td>0</td>\n",
       "      <td>2</td>\n",
       "    </tr>\n",
       "    <tr>\n",
       "      <th>1</th>\n",
       "      <td>2</td>\n",
       "      <td>1</td>\n",
       "      <td>1</td>\n",
       "      <td>Cumings, Mrs. John Bradley (Florence Briggs Th...</td>\n",
       "      <td>female</td>\n",
       "      <td>38.0</td>\n",
       "      <td>1</td>\n",
       "      <td>0</td>\n",
       "      <td>PC 17599</td>\n",
       "      <td>71.2833</td>\n",
       "      <td>...</td>\n",
       "      <td>Mrs</td>\n",
       "      <td>30-40</td>\n",
       "      <td>1</td>\n",
       "      <td>1</td>\n",
       "      <td>5</td>\n",
       "      <td>0</td>\n",
       "      <td>1</td>\n",
       "      <td>1</td>\n",
       "      <td>1</td>\n",
       "      <td>3</td>\n",
       "    </tr>\n",
       "    <tr>\n",
       "      <th>2</th>\n",
       "      <td>3</td>\n",
       "      <td>1</td>\n",
       "      <td>3</td>\n",
       "      <td>Heikkinen, Miss. Laina</td>\n",
       "      <td>female</td>\n",
       "      <td>26.0</td>\n",
       "      <td>0</td>\n",
       "      <td>0</td>\n",
       "      <td>STON/O2. 3101282</td>\n",
       "      <td>7.9250</td>\n",
       "      <td>...</td>\n",
       "      <td>Miss</td>\n",
       "      <td>20-30</td>\n",
       "      <td>0</td>\n",
       "      <td>0</td>\n",
       "      <td>1</td>\n",
       "      <td>0</td>\n",
       "      <td>1</td>\n",
       "      <td>0</td>\n",
       "      <td>2</td>\n",
       "      <td>2</td>\n",
       "    </tr>\n",
       "    <tr>\n",
       "      <th>3</th>\n",
       "      <td>4</td>\n",
       "      <td>1</td>\n",
       "      <td>1</td>\n",
       "      <td>Futrelle, Mrs. Jacques Heath (Lily May Peel)</td>\n",
       "      <td>female</td>\n",
       "      <td>35.0</td>\n",
       "      <td>1</td>\n",
       "      <td>0</td>\n",
       "      <td>113803</td>\n",
       "      <td>53.1000</td>\n",
       "      <td>...</td>\n",
       "      <td>Mrs</td>\n",
       "      <td>30-40</td>\n",
       "      <td>1</td>\n",
       "      <td>1</td>\n",
       "      <td>5</td>\n",
       "      <td>0</td>\n",
       "      <td>1</td>\n",
       "      <td>0</td>\n",
       "      <td>1</td>\n",
       "      <td>3</td>\n",
       "    </tr>\n",
       "    <tr>\n",
       "      <th>4</th>\n",
       "      <td>5</td>\n",
       "      <td>0</td>\n",
       "      <td>3</td>\n",
       "      <td>Allen, Mr. William Henry</td>\n",
       "      <td>male</td>\n",
       "      <td>35.0</td>\n",
       "      <td>0</td>\n",
       "      <td>0</td>\n",
       "      <td>373450</td>\n",
       "      <td>8.0500</td>\n",
       "      <td>...</td>\n",
       "      <td>Mr</td>\n",
       "      <td>30-40</td>\n",
       "      <td>0</td>\n",
       "      <td>0</td>\n",
       "      <td>1</td>\n",
       "      <td>0</td>\n",
       "      <td>0</td>\n",
       "      <td>0</td>\n",
       "      <td>0</td>\n",
       "      <td>3</td>\n",
       "    </tr>\n",
       "  </tbody>\n",
       "</table>\n",
       "<p>5 rows × 22 columns</p>\n",
       "</div>"
      ],
      "text/plain": [
       "   PassengerId  Survived  Pclass  \\\n",
       "0            1         0       3   \n",
       "1            2         1       1   \n",
       "2            3         1       3   \n",
       "3            4         1       1   \n",
       "4            5         0       3   \n",
       "\n",
       "                                                Name     Sex   Age  SibSp  \\\n",
       "0                            Braund, Mr. Owen Harris    male  22.0      1   \n",
       "1  Cumings, Mrs. John Bradley (Florence Briggs Th...  female  38.0      1   \n",
       "2                             Heikkinen, Miss. Laina  female  26.0      0   \n",
       "3       Futrelle, Mrs. Jacques Heath (Lily May Peel)  female  35.0      1   \n",
       "4                           Allen, Mr. William Henry    male  35.0      0   \n",
       "\n",
       "   Parch            Ticket     Fare  ... Initial AgeGroup FamilySize  \\\n",
       "0      0         A/5 21171   7.2500  ...      Mr    20-30          1   \n",
       "1      0          PC 17599  71.2833  ...     Mrs    30-40          1   \n",
       "2      0  STON/O2. 3101282   7.9250  ...    Miss    20-30          0   \n",
       "3      0            113803  53.1000  ...     Mrs    30-40          1   \n",
       "4      0            373450   8.0500  ...      Mr    30-40          0   \n",
       "\n",
       "  Familysize  FareCategory Parch_cat  Sex_cat  Embarked_cat  Initial_cat  \\\n",
       "0          1             0         0        0             0            0   \n",
       "1          1             5         0        1             1            1   \n",
       "2          0             1         0        1             0            2   \n",
       "3          1             5         0        1             0            1   \n",
       "4          0             1         0        0             0            0   \n",
       "\n",
       "   AgeCategory  \n",
       "0            2  \n",
       "1            3  \n",
       "2            2  \n",
       "3            3  \n",
       "4            3  \n",
       "\n",
       "[5 rows x 22 columns]"
      ]
     },
     "execution_count": 46,
     "metadata": {},
     "output_type": "execute_result"
    }
   ],
   "source": [
    "df.head()"
   ]
  },
  {
   "cell_type": "code",
   "execution_count": 47,
   "metadata": {},
   "outputs": [
    {
     "data": {
      "text/html": [
       "<div>\n",
       "<style scoped>\n",
       "    .dataframe tbody tr th:only-of-type {\n",
       "        vertical-align: middle;\n",
       "    }\n",
       "\n",
       "    .dataframe tbody tr th {\n",
       "        vertical-align: top;\n",
       "    }\n",
       "\n",
       "    .dataframe thead th {\n",
       "        text-align: right;\n",
       "    }\n",
       "</style>\n",
       "<table border=\"1\" class=\"dataframe\">\n",
       "  <thead>\n",
       "    <tr style=\"text-align: right;\">\n",
       "      <th></th>\n",
       "      <th>Survived</th>\n",
       "      <th>Pclass</th>\n",
       "      <th>FamilySize</th>\n",
       "      <th>FareCategory</th>\n",
       "      <th>Parch_cat</th>\n",
       "      <th>Sex_cat</th>\n",
       "      <th>Embarked_cat</th>\n",
       "      <th>Initial_cat</th>\n",
       "      <th>AgeCategory</th>\n",
       "    </tr>\n",
       "  </thead>\n",
       "  <tbody>\n",
       "    <tr>\n",
       "      <th>0</th>\n",
       "      <td>0</td>\n",
       "      <td>3</td>\n",
       "      <td>1</td>\n",
       "      <td>0</td>\n",
       "      <td>0</td>\n",
       "      <td>0</td>\n",
       "      <td>0</td>\n",
       "      <td>0</td>\n",
       "      <td>2</td>\n",
       "    </tr>\n",
       "    <tr>\n",
       "      <th>1</th>\n",
       "      <td>1</td>\n",
       "      <td>1</td>\n",
       "      <td>1</td>\n",
       "      <td>5</td>\n",
       "      <td>0</td>\n",
       "      <td>1</td>\n",
       "      <td>1</td>\n",
       "      <td>1</td>\n",
       "      <td>3</td>\n",
       "    </tr>\n",
       "    <tr>\n",
       "      <th>2</th>\n",
       "      <td>1</td>\n",
       "      <td>3</td>\n",
       "      <td>0</td>\n",
       "      <td>1</td>\n",
       "      <td>0</td>\n",
       "      <td>1</td>\n",
       "      <td>0</td>\n",
       "      <td>2</td>\n",
       "      <td>2</td>\n",
       "    </tr>\n",
       "    <tr>\n",
       "      <th>3</th>\n",
       "      <td>1</td>\n",
       "      <td>1</td>\n",
       "      <td>1</td>\n",
       "      <td>5</td>\n",
       "      <td>0</td>\n",
       "      <td>1</td>\n",
       "      <td>0</td>\n",
       "      <td>1</td>\n",
       "      <td>3</td>\n",
       "    </tr>\n",
       "    <tr>\n",
       "      <th>4</th>\n",
       "      <td>0</td>\n",
       "      <td>3</td>\n",
       "      <td>0</td>\n",
       "      <td>1</td>\n",
       "      <td>0</td>\n",
       "      <td>0</td>\n",
       "      <td>0</td>\n",
       "      <td>0</td>\n",
       "      <td>3</td>\n",
       "    </tr>\n",
       "  </tbody>\n",
       "</table>\n",
       "</div>"
      ],
      "text/plain": [
       "   Survived  Pclass  FamilySize  FareCategory  Parch_cat  Sex_cat  \\\n",
       "0         0       3           1             0          0        0   \n",
       "1         1       1           1             5          0        1   \n",
       "2         1       3           0             1          0        1   \n",
       "3         1       1           1             5          0        1   \n",
       "4         0       3           0             1          0        0   \n",
       "\n",
       "   Embarked_cat  Initial_cat  AgeCategory  \n",
       "0             0            0            2  \n",
       "1             1            1            3  \n",
       "2             0            2            2  \n",
       "3             0            1            3  \n",
       "4             0            0            3  "
      ]
     },
     "execution_count": 47,
     "metadata": {},
     "output_type": "execute_result"
    }
   ],
   "source": [
    "#droppiamo le variabili che non useremo per i modelli\n",
    "\n",
    "df.drop([\"PassengerId\",\"Name\",\"Age\",\"SibSp\",\"Parch\",\"Ticket\",\"Fare\",\"Cabin\",\"Familysize\",\"AgeGroup\",\"Sex\",\"Embarked\",\"Initial\"], axis=1 ,inplace=True)\n",
    "df.head()"
   ]
  },
  {
   "cell_type": "code",
   "execution_count": 48,
   "metadata": {},
   "outputs": [
    {
     "data": {
      "text/html": [
       "<div>\n",
       "<style scoped>\n",
       "    .dataframe tbody tr th:only-of-type {\n",
       "        vertical-align: middle;\n",
       "    }\n",
       "\n",
       "    .dataframe tbody tr th {\n",
       "        vertical-align: top;\n",
       "    }\n",
       "\n",
       "    .dataframe thead th {\n",
       "        text-align: right;\n",
       "    }\n",
       "</style>\n",
       "<table border=\"1\" class=\"dataframe\">\n",
       "  <thead>\n",
       "    <tr style=\"text-align: right;\">\n",
       "      <th></th>\n",
       "      <th>Pclass</th>\n",
       "      <th>FamilySize</th>\n",
       "      <th>FareCategory</th>\n",
       "      <th>Parch_cat</th>\n",
       "      <th>Sex_cat</th>\n",
       "      <th>Embarked_cat</th>\n",
       "      <th>Initial_cat</th>\n",
       "      <th>AgeCategory</th>\n",
       "    </tr>\n",
       "  </thead>\n",
       "  <tbody>\n",
       "    <tr>\n",
       "      <th>0</th>\n",
       "      <td>3</td>\n",
       "      <td>0</td>\n",
       "      <td>1</td>\n",
       "      <td>0</td>\n",
       "      <td>0</td>\n",
       "      <td>2</td>\n",
       "      <td>0</td>\n",
       "      <td>3</td>\n",
       "    </tr>\n",
       "    <tr>\n",
       "      <th>1</th>\n",
       "      <td>3</td>\n",
       "      <td>1</td>\n",
       "      <td>0</td>\n",
       "      <td>0</td>\n",
       "      <td>1</td>\n",
       "      <td>0</td>\n",
       "      <td>1</td>\n",
       "      <td>4</td>\n",
       "    </tr>\n",
       "    <tr>\n",
       "      <th>2</th>\n",
       "      <td>2</td>\n",
       "      <td>0</td>\n",
       "      <td>2</td>\n",
       "      <td>0</td>\n",
       "      <td>0</td>\n",
       "      <td>2</td>\n",
       "      <td>0</td>\n",
       "      <td>6</td>\n",
       "    </tr>\n",
       "    <tr>\n",
       "      <th>3</th>\n",
       "      <td>3</td>\n",
       "      <td>0</td>\n",
       "      <td>0</td>\n",
       "      <td>0</td>\n",
       "      <td>0</td>\n",
       "      <td>0</td>\n",
       "      <td>0</td>\n",
       "      <td>2</td>\n",
       "    </tr>\n",
       "    <tr>\n",
       "      <th>4</th>\n",
       "      <td>3</td>\n",
       "      <td>2</td>\n",
       "      <td>2</td>\n",
       "      <td>2</td>\n",
       "      <td>1</td>\n",
       "      <td>0</td>\n",
       "      <td>1</td>\n",
       "      <td>2</td>\n",
       "    </tr>\n",
       "  </tbody>\n",
       "</table>\n",
       "</div>"
      ],
      "text/plain": [
       "   Pclass  FamilySize  FareCategory  Parch_cat  Sex_cat  Embarked_cat  \\\n",
       "0       3           0             1          0        0             2   \n",
       "1       3           1             0          0        1             0   \n",
       "2       2           0             2          0        0             2   \n",
       "3       3           0             0          0        0             0   \n",
       "4       3           2             2          2        1             0   \n",
       "\n",
       "   Initial_cat  AgeCategory  \n",
       "0            0            3  \n",
       "1            1            4  \n",
       "2            0            6  \n",
       "3            0            2  \n",
       "4            1            2  "
      ]
     },
     "execution_count": 48,
     "metadata": {},
     "output_type": "execute_result"
    }
   ],
   "source": [
    "#salviamo PassengerID del test set prima di dropparlo, per poter fare la submit in Kagle\n",
    "id_test_X=test_X[\"PassengerId\"]\n",
    "test_X.drop([\"PassengerId\",\"Name\",\"Age\",\"SibSp\",\"Parch\",\"Ticket\",\"Fare\",\"Cabin\",\"Familysize\",\"AgeGroup\",\"Sex\",\"Embarked\",\"Initial\"], axis=1 ,inplace=True)\n",
    "test_X.head()"
   ]
  },
  {
   "cell_type": "code",
   "execution_count": 49,
   "metadata": {},
   "outputs": [
    {
     "data": {
      "image/png": "[encoded data removed]",
      "text/plain": [
       "<Figure size 1080x864 with 2 Axes>"
      ]
     },
     "metadata": {
      "needs_background": "light"
     },
     "output_type": "display_data"
    }
   ],
   "source": [
    "#vediamo le correlazioni tra le variabili rimaste\n",
    "import seaborn as sns\n",
    "\n",
    "sns.heatmap(df.corr(),annot=True,linewidths=1,linecolor='k',vmin=-1, vmax=1)\n",
    "fig=plt.gcf()\n",
    "fig.set_size_inches(15,12)\n",
    "plt.show()\n"
   ]
  },
  {
   "cell_type": "code",
   "execution_count": null,
   "metadata": {},
   "outputs": [],
   "source": []
  },
  {
   "cell_type": "code",
   "execution_count": 50,
   "metadata": {},
   "outputs": [],
   "source": [
    "#prima di predire il test set facciamo delle prove splittando il train set 0.7 come train, 0.3 come test set\n",
    "from sklearn.model_selection import train_test_split\n",
    "\n",
    "train,test=train_test_split(df,test_size=0.3,random_state=0,stratify=df['Survived'])"
   ]
  },
  {
   "cell_type": "code",
   "execution_count": 51,
   "metadata": {},
   "outputs": [],
   "source": [
    "#creiamo le variabili trai e test\n",
    "train_X=train[train.columns[1:]]\n",
    "train_Y=train[train.columns[:1]]\n",
    "\n",
    "X=df[df.columns[1:]]\n",
    "Y=df[df.columns[:1]]\n",
    "\n",
    "X_test= test[test.columns[1:]]\n",
    "Y_test= test[test.columns[:1]]"
   ]
  },
  {
   "cell_type": "code",
   "execution_count": 52,
   "metadata": {},
   "outputs": [],
   "source": [
    "#importiamo dei koduli che ci saranno utili per creare i vari modelli di machine learning\n",
    "from sklearn.naive_bayes import GaussianNB\n",
    "from sklearn import metrics\n",
    "from sklearn.model_selection import cross_val_predict\n",
    "from sklearn.neural_network import MLPClassifier\n",
    "from sklearn.linear_model import LogisticRegression\n",
    "from sklearn.ensemble import RandomForestClassifier\n",
    "from sklearn.naive_bayes import GaussianNB \n",
    "from sklearn.tree import DecisionTreeClassifier \n",
    "from sklearn.model_selection import train_test_split \n",
    "from sklearn import metrics \n",
    "from sklearn.metrics import confusion_matrix "
   ]
  },
  {
   "cell_type": "code",
   "execution_count": 53,
   "metadata": {},
   "outputs": [
    {
     "name": "stdout",
     "output_type": "stream",
     "text": [
      "The accuracy of the NaiveBayes model is\t\t\t 0.8246268656716418\n"
     ]
    },
    {
     "data": {
      "text/plain": [
       "<matplotlib.axes._subplots.AxesSubplot at 0x15cc21c0>"
      ]
     },
     "execution_count": 53,
     "metadata": {},
     "output_type": "execute_result"
    },
    {
     "data": {
      "image/png": "[encoded data removed]",
      "text/plain": [
       "<Figure size 432x288 with 2 Axes>"
      ]
     },
     "metadata": {
      "needs_background": "light"
     },
     "output_type": "display_data"
    }
   ],
   "source": [
    "#NAIVE BAYES\n",
    "\n",
    "gnb = GaussianNB()\n",
    "gnb.fit(train_X,train_Y.values.ravel())\n",
    "NB_prediction=gnb.predict(X_test)\n",
    "print('The accuracy of the NaiveBayes model is\\t\\t\\t',metrics.accuracy_score(NB_prediction,Y_test['Survived']))\n",
    "\n",
    "sns.heatmap(confusion_matrix(Y_test[\"Survived\"],NB_prediction),annot=True,fmt='2.0f')"
   ]
  },
  {
   "cell_type": "code",
   "execution_count": 54,
   "metadata": {},
   "outputs": [
    {
     "name": "stdout",
     "output_type": "stream",
     "text": [
      "The accuracy of the MLP model is\t\t\t 0.8022388059701493\n"
     ]
    },
    {
     "data": {
      "text/plain": [
       "<matplotlib.axes._subplots.AxesSubplot at 0x15d11d60>"
      ]
     },
     "execution_count": 54,
     "metadata": {},
     "output_type": "execute_result"
    },
    {
     "data": {
      "image/png": "[encoded data removed]",
      "text/plain": [
       "<Figure size 432x288 with 2 Axes>"
      ]
     },
     "metadata": {
      "needs_background": "light"
     },
     "output_type": "display_data"
    }
   ],
   "source": [
    "#model MlP\n",
    "modelMLP=MLPClassifier(max_iter=600, random_state=1)\n",
    "modelMLP.fit(train_X, train_Y.values.ravel())\n",
    "MLP_prediction= modelMLP.predict(X_test)\n",
    "print(\"The accuracy of the MLP model is\\t\\t\\t\",metrics.accuracy_score(MLP_prediction,Y_test[\"Survived\"]))\n",
    "\n",
    "sns.heatmap(confusion_matrix(Y_test[\"Survived\"],MLP_prediction),annot=True,fmt='2.0f')"
   ]
  },
  {
   "cell_type": "code",
   "execution_count": 55,
   "metadata": {},
   "outputs": [
    {
     "name": "stdout",
     "output_type": "stream",
     "text": [
      "The accuracy of the Logistic Regression model is \t 0.8283582089552238\n"
     ]
    },
    {
     "data": {
      "text/plain": [
       "<matplotlib.axes._subplots.AxesSubplot at 0x15d67898>"
      ]
     },
     "execution_count": 55,
     "metadata": {},
     "output_type": "execute_result"
    },
    {
     "data": {
      "image/png": "[encoded data removed]",
      "text/plain": [
       "<Figure size 432x288 with 2 Axes>"
      ]
     },
     "metadata": {
      "needs_background": "light"
     },
     "output_type": "display_data"
    }
   ],
   "source": [
    "# Logistic Regression\n",
    "modelLG = LogisticRegression(C=0.75,solver='liblinear')\n",
    "modelLG.fit(train_X,train_Y.values.ravel())\n",
    "LR_prediction=modelLG.predict(X_test)\n",
    "print('The accuracy of the Logistic Regression model is \\t',metrics.accuracy_score(LR_prediction,Y_test['Survived']))\n",
    "\n",
    "sns.heatmap(confusion_matrix(Y_test[\"Survived\"],LR_prediction),annot=True,fmt='2.0f')\n",
    "\n"
   ]
  },
  {
   "cell_type": "code",
   "execution_count": 56,
   "metadata": {},
   "outputs": [
    {
     "name": "stdout",
     "output_type": "stream",
     "text": [
      "The accuracy of the Decision Tree is \t\t\t 0.8059701492537313\n"
     ]
    },
    {
     "data": {
      "text/plain": [
       "<matplotlib.axes._subplots.AxesSubplot at 0x15dbd0e8>"
      ]
     },
     "execution_count": 56,
     "metadata": {},
     "output_type": "execute_result"
    },
    {
     "data": {
      "image/png": "[encoded data removed]",
      "text/plain": [
       "<Figure size 432x288 with 2 Axes>"
      ]
     },
     "metadata": {
      "needs_background": "light"
     },
     "output_type": "display_data"
    }
   ],
   "source": [
    "# Decision Tree\n",
    "modelDT=DecisionTreeClassifier()\n",
    "modelDT.fit(train_X,train_Y)\n",
    "DT_prediction=modelDT.predict(X_test)\n",
    "print('The accuracy of the Decision Tree is \\t\\t\\t',metrics.accuracy_score(DT_prediction,Y_test['Survived']))\n",
    "\n",
    "sns.heatmap(confusion_matrix(Y_test[\"Survived\"],DT_prediction),annot=True,fmt='2.0f')\n"
   ]
  },
  {
   "cell_type": "code",
   "execution_count": 57,
   "metadata": {},
   "outputs": [
    {
     "name": "stdout",
     "output_type": "stream",
     "text": [
      "The accuracy of the Random Forests model is \t\t 0.8208955223880597\n"
     ]
    },
    {
     "data": {
      "text/plain": [
       "<matplotlib.axes._subplots.AxesSubplot at 0x15e24910>"
      ]
     },
     "execution_count": 57,
     "metadata": {},
     "output_type": "execute_result"
    },
    {
     "data": {
      "image/png": "[encoded data removed]",
      "text/plain": [
       "<Figure size 432x288 with 2 Axes>"
      ]
     },
     "metadata": {
      "needs_background": "light"
     },
     "output_type": "display_data"
    }
   ],
   "source": [
    "\n",
    "# Random Forest\n",
    "modelRF=RandomForestClassifier(n_estimators=300)\n",
    "modelRF.fit(train_X,train_Y.values.ravel())\n",
    "RF_prediction=modelRF.predict(X_test)\n",
    "print('The accuracy of the Random Forests model is \\t\\t',metrics.accuracy_score(RF_prediction,Y_test['Survived']))\n",
    "\n",
    "sns.heatmap(confusion_matrix(Y_test[\"Survived\"],RF_prediction),annot=True,fmt='2.0f')\n"
   ]
  },
  {
   "cell_type": "code",
   "execution_count": 58,
   "metadata": {},
   "outputs": [
    {
     "name": "stdout",
     "output_type": "stream",
     "text": [
      "The accuracy of the Ensemble is \t\t\t 0.8059701492537313\n"
     ]
    },
    {
     "data": {
      "text/plain": [
       "<matplotlib.axes._subplots.AxesSubplot at 0x15eb4b98>"
      ]
     },
     "execution_count": 58,
     "metadata": {},
     "output_type": "execute_result"
    },
    {
     "data": {
      "image/png": "[encoded data removed]",
      "text/plain": [
       "<Figure size 432x288 with 2 Axes>"
      ]
     },
     "metadata": {
      "needs_background": "light"
     },
     "output_type": "display_data"
    }
   ],
   "source": [
    "#proviamo ad unire i modelli per crearne uno migliore tramite il voting classifier\n",
    "from sklearn.ensemble import VotingClassifier\n",
    "\n",
    "Ensemble_Model_For_Prediction=VotingClassifier(estimators=[                                     \n",
    "                                       ('RFor',RandomForestClassifier(n_estimators=300,random_state=0)),\n",
    "                                       ('LR',LogisticRegression(C=0.75,solver='liblinear')),\n",
    "                                       ('DT',DecisionTreeClassifier(random_state=0)),\n",
    "                                       ('NB',GaussianNB()),\n",
    "                                       ('MLP',MLPClassifier(max_iter=600, random_state=1))\n",
    "                                             ], \n",
    "                       voting='soft')\n",
    "Ensemble_Model_For_Prediction.fit(train_X,train_Y.values.ravel())\n",
    "ensemble_prediction= Ensemble_Model_For_Prediction.predict(X_test)\n",
    "\n",
    "print('The accuracy of the Ensemble is \\t\\t\\t',metrics.accuracy_score(DT_prediction,Y_test['Survived']))\n",
    "\n",
    "sns.heatmap(confusion_matrix(Y_test[\"Survived\"],DT_prediction),annot=True,fmt='2.0f')"
   ]
  },
  {
   "cell_type": "code",
   "execution_count": 59,
   "metadata": {},
   "outputs": [],
   "source": [
    "#ora usiamo tutto il train set per allenare il modello e fare la predizione per il test set\n",
    "#creiamo due variabili per il train che serviranno per allenare il modello\n",
    "X_train=df[df.columns[1:]]\n",
    "Y_train=df[df.columns[:1]]"
   ]
  },
  {
   "cell_type": "code",
   "execution_count": 60,
   "metadata": {},
   "outputs": [],
   "source": [
    "#NAIVE BAYES\n",
    "\n",
    "gnb = GaussianNB()\n",
    "gnb.fit(X_train,Y_train.values.ravel())\n",
    "NB_prediction=gnb.predict(test_X)"
   ]
  },
  {
   "cell_type": "code",
   "execution_count": 61,
   "metadata": {},
   "outputs": [],
   "source": [
    "modelMLP=MLPClassifier(max_iter=600, random_state=1)\n",
    "modelMLP.fit(X_train, Y_train.values.ravel())\n",
    "MLP_prediction= modelMLP.predict(test_X)\n"
   ]
  },
  {
   "cell_type": "code",
   "execution_count": 62,
   "metadata": {},
   "outputs": [],
   "source": [
    "# Logistic Regression\n",
    "modelLG = LogisticRegression(C=0.75,solver='liblinear')\n",
    "modelLG.fit(X_train,Y_train.values.ravel())\n",
    "LR_prediction=modelLG.predict(test_X)\n",
    "\n"
   ]
  },
  {
   "cell_type": "code",
   "execution_count": 63,
   "metadata": {},
   "outputs": [],
   "source": [
    "# Decision Tree\n",
    "modelDT=DecisionTreeClassifier()\n",
    "modelDT.fit(X_train,Y_train)\n",
    "DT_prediction=modelDT.predict(test_X)\n"
   ]
  },
  {
   "cell_type": "code",
   "execution_count": 64,
   "metadata": {},
   "outputs": [],
   "source": [
    "# Random Forest\n",
    "modelRF=RandomForestClassifier(n_estimators=300, max_features=None)\n",
    "modelRF.fit(X_train,Y_train.values.ravel())\n",
    "RF_prediction=modelRF.predict(test_X)"
   ]
  },
  {
   "cell_type": "code",
   "execution_count": 65,
   "metadata": {},
   "outputs": [],
   "source": [
    "Ensemble_Model_For_Prediction=VotingClassifier(estimators=[                                     \n",
    "                                       ('RFor',RandomForestClassifier(n_estimators=300,random_state=0)),\n",
    "                                       ('LR',LogisticRegression(C=0.75,solver='liblinear')),\n",
    "                                       ('DT',DecisionTreeClassifier(random_state=0)),\n",
    "                                       ('NB',GaussianNB()),\n",
    "                                       ('MLP',MLPClassifier(max_iter=600, random_state=1))\n",
    "                                             ], \n",
    "                       voting='soft')\n",
    "Ensemble_Model_For_Prediction.fit(X_train,Y_train.values.ravel())\n",
    "ensemble_prediction= Ensemble_Model_For_Prediction.predict(test_X)\n",
    "\n"
   ]
  },
  {
   "cell_type": "code",
   "execution_count": 66,
   "metadata": {},
   "outputs": [],
   "source": [
    "#Ora creiamo i file csv per fare la submit su kagle della predizione del test set"
   ]
  },
  {
   "cell_type": "code",
   "execution_count": 67,
   "metadata": {},
   "outputs": [],
   "source": [
    "# Predict\n",
    "test_Survived = pd.Series(NB_prediction, name=\"Survived\")\n",
    "results = pd.concat([id_test_X,test_Survived],axis=1)\n",
    "results.to_csv(\"predictionsNB.csv\",index=False)"
   ]
  },
  {
   "cell_type": "code",
   "execution_count": 68,
   "metadata": {},
   "outputs": [],
   "source": [
    "# Predict\n",
    "test_Survived = pd.Series(MLP_prediction, name=\"Survived\")\n",
    "results = pd.concat([id_test_X,test_Survived],axis=1)\n",
    "results.to_csv(\"predictionsMLP.csv\",index=False)"
   ]
  },
  {
   "cell_type": "code",
   "execution_count": 69,
   "metadata": {},
   "outputs": [],
   "source": [
    "# Predict\n",
    "test_Survived = pd.Series(LR_prediction, name=\"Survived\")\n",
    "results = pd.concat([id_test_X,test_Survived],axis=1)\n",
    "results.to_csv(\"predictionsLR.csv\",index=False)"
   ]
  },
  {
   "cell_type": "code",
   "execution_count": 70,
   "metadata": {},
   "outputs": [],
   "source": [
    "# Predict\n",
    "test_Survived = pd.Series(DT_prediction, name=\"Survived\")\n",
    "results = pd.concat([id_test_X,test_Survived],axis=1)\n",
    "results.to_csv(\"predictionsDT.csv\",index=False)"
   ]
  },
  {
   "cell_type": "code",
   "execution_count": 71,
   "metadata": {},
   "outputs": [],
   "source": [
    "# Predict\n",
    "test_Survived = pd.Series(RF_prediction, name=\"Survived\")\n",
    "results = pd.concat([id_test_X,test_Survived],axis=1)\n",
    "results.to_csv(\"predictionsRF.csv\",index=False)"
   ]
  },
  {
   "cell_type": "code",
   "execution_count": 72,
   "metadata": {},
   "outputs": [],
   "source": [
    "# Predict\n",
    "test_Survived = pd.Series(ensemble_prediction, name=\"Survived\")\n",
    "results = pd.concat([id_test_X,test_Survived],axis=1)\n",
    "results.to_csv(\"predictionsE.csv\",index=False)\n"
   ]
  },
  {
   "cell_type": "code",
   "execution_count": null,
   "metadata": {},
   "outputs": [],
   "source": []
  }
 ],
 "metadata": {
  "kernelspec": {
   "display_name": "Python 3",
   "language": "python",
   "name": "python3"
  },
  "language_info": {
   "codemirror_mode": {
    "name": "ipython",
    "version": 3
   },
   "file_extension": ".py",
   "mimetype": "text/x-python",
   "name": "python",
   "nbconvert_exporter": "python",
   "pygments_lexer": "ipython3",
   "version": "3.8.3"
  }
 },
 "nbformat": 4,
 "nbformat_minor": 4
}
